{
 "cells": [
  {
   "cell_type": "code",
   "execution_count": 1,
   "id": "672b079c-a631-46cd-89ce-e19e686ff6dd",
   "metadata": {
    "tags": []
   },
   "outputs": [],
   "source": [
    "import pandas as pd\n",
    "import numpy as np"
   ]
  },
  {
   "cell_type": "code",
   "execution_count": 2,
   "id": "1c58cd79-d494-4b97-828a-8f81dd753c63",
   "metadata": {
    "tags": []
   },
   "outputs": [],
   "source": [
    "all_delegates = pd.read_csv(\"COP28_delegates_all.csv\")"
   ]
  },
  {
   "cell_type": "code",
   "execution_count": 9,
   "id": "1939c45a-5e7d-4d28-8ab1-ade4e603bc54",
   "metadata": {
    "tags": []
   },
   "outputs": [
    {
     "data": {
      "text/html": [
       "<div>\n",
       "<style scoped>\n",
       "    .dataframe tbody tr th:only-of-type {\n",
       "        vertical-align: middle;\n",
       "    }\n",
       "\n",
       "    .dataframe tbody tr th {\n",
       "        vertical-align: top;\n",
       "    }\n",
       "\n",
       "    .dataframe thead th {\n",
       "        text-align: right;\n",
       "    }\n",
       "</style>\n",
       "<table border=\"1\" class=\"dataframe\">\n",
       "  <thead>\n",
       "    <tr style=\"text-align: right;\">\n",
       "      <th></th>\n",
       "      <th>nominator</th>\n",
       "      <th>name</th>\n",
       "      <th>func_title</th>\n",
       "      <th>department</th>\n",
       "      <th>organization</th>\n",
       "      <th>relation</th>\n",
       "      <th>type</th>\n",
       "    </tr>\n",
       "  </thead>\n",
       "  <tbody>\n",
       "    <tr>\n",
       "      <th>9901</th>\n",
       "      <td>Kuwait</td>\n",
       "      <td>Mr. Mohammad Alghareeb</td>\n",
       "      <td>Security and safety engineer</td>\n",
       "      <td>Kuwait petroleum international company</td>\n",
       "      <td>Kuwait petroleum international company</td>\n",
       "      <td>Unpaid advisory capacity</td>\n",
       "      <td>Parties</td>\n",
       "    </tr>\n",
       "    <tr>\n",
       "      <th>12568</th>\n",
       "      <td>Nigeria</td>\n",
       "      <td>Mr. Enene Xynex Ambah</td>\n",
       "      <td>senior special Advicer</td>\n",
       "      <td>ministers office</td>\n",
       "      <td>federal ministry of petroleum Resources</td>\n",
       "      <td>Paid relationship/contract with the nominating...</td>\n",
       "      <td>Parties</td>\n",
       "    </tr>\n",
       "    <tr>\n",
       "      <th>12775</th>\n",
       "      <td>Oman</td>\n",
       "      <td>Mr. Nasser Al Salmi</td>\n",
       "      <td>Enviromental Development Adviser</td>\n",
       "      <td>Enviroment</td>\n",
       "      <td>petroleum development oman</td>\n",
       "      <td>Paid relationship/contract with the nominating...</td>\n",
       "      <td>Parties</td>\n",
       "    </tr>\n",
       "    <tr>\n",
       "      <th>12779</th>\n",
       "      <td>Oman</td>\n",
       "      <td>Mr. Mohammed Al Ajmi</td>\n",
       "      <td>Corporate GHG Advisor</td>\n",
       "      <td>Environment</td>\n",
       "      <td>petroleum development Oman</td>\n",
       "      <td>Paid relationship/contract with the nominating...</td>\n",
       "      <td>Parties</td>\n",
       "    </tr>\n",
       "    <tr>\n",
       "      <th>25431</th>\n",
       "      <td>Egypt</td>\n",
       "      <td>Mr. Ali Amr Ali Hassan Egeza</td>\n",
       "      <td>Marketing Coordinator</td>\n",
       "      <td>Ministry of petroleum</td>\n",
       "      <td>Ministry of petroleum</td>\n",
       "      <td>Choose not to disclose</td>\n",
       "      <td>Party overflow</td>\n",
       "    </tr>\n",
       "    <tr>\n",
       "      <th>25443</th>\n",
       "      <td>Egypt</td>\n",
       "      <td>Mr. Ahmed Mahmoud Mohamed Elsayed</td>\n",
       "      <td>Chairman</td>\n",
       "      <td>Ministry of petroleum</td>\n",
       "      <td>Ministry of petroleum</td>\n",
       "      <td>Choose not to disclose</td>\n",
       "      <td>Party overflow</td>\n",
       "    </tr>\n",
       "    <tr>\n",
       "      <th>25448</th>\n",
       "      <td>Egypt</td>\n",
       "      <td>Ms. Gihan Mohamed Said Farid</td>\n",
       "      <td>Spouse of Minister of petroleum</td>\n",
       "      <td>Ministry of petroleum</td>\n",
       "      <td>Ministry of petroleum</td>\n",
       "      <td>Choose not to disclose</td>\n",
       "      <td>Party overflow</td>\n",
       "    </tr>\n",
       "    <tr>\n",
       "      <th>25466</th>\n",
       "      <td>Egypt</td>\n",
       "      <td>Mr. Ibrahim Abdelkader Mekky Maghoub</td>\n",
       "      <td>Chairman of Board</td>\n",
       "      <td>Ministry of petroleum</td>\n",
       "      <td>Ministry of petroleum</td>\n",
       "      <td>Choose not to disclose</td>\n",
       "      <td>Party overflow</td>\n",
       "    </tr>\n",
       "    <tr>\n",
       "      <th>33824</th>\n",
       "      <td>Nigeria</td>\n",
       "      <td>Mr. Daniel Roy Bako</td>\n",
       "      <td>Climate specialist</td>\n",
       "      <td>sustainability</td>\n",
       "      <td>Federal ministry of petroleum</td>\n",
       "      <td>Paid relationship/contract with the nominating...</td>\n",
       "      <td>Party overflow</td>\n",
       "    </tr>\n",
       "    <tr>\n",
       "      <th>33826</th>\n",
       "      <td>Nigeria</td>\n",
       "      <td>Mr. Bassey Edem Bassey</td>\n",
       "      <td>assistant director</td>\n",
       "      <td>renewable energy</td>\n",
       "      <td>nigerian national petroleum cooperation</td>\n",
       "      <td>Paid relationship/contract with the nominating...</td>\n",
       "      <td>Party overflow</td>\n",
       "    </tr>\n",
       "    <tr>\n",
       "      <th>33835</th>\n",
       "      <td>Nigeria</td>\n",
       "      <td>Mr. Lawrence Ifeaghochukwu Chukwu</td>\n",
       "      <td>deputy director</td>\n",
       "      <td>management</td>\n",
       "      <td>nigerian national petroleum cooperation</td>\n",
       "      <td>Paid relationship/contract with an affiliate/m...</td>\n",
       "      <td>Party overflow</td>\n",
       "    </tr>\n",
       "    <tr>\n",
       "      <th>33845</th>\n",
       "      <td>Nigeria</td>\n",
       "      <td>Ms. Uzoma Maudline Emelife</td>\n",
       "      <td>Director</td>\n",
       "      <td>management</td>\n",
       "      <td>Nigerian National petroleum coopertion</td>\n",
       "      <td>Paid relationship/contract with the nominating...</td>\n",
       "      <td>Party overflow</td>\n",
       "    </tr>\n",
       "    <tr>\n",
       "      <th>33959</th>\n",
       "      <td>Nigeria</td>\n",
       "      <td>Mr. Ahmad Muhammad Lula Sokoto</td>\n",
       "      <td>Group managing Director</td>\n",
       "      <td>Renewal energy</td>\n",
       "      <td>nigerian national petroleum cooperation</td>\n",
       "      <td>Paid relationship/contract with the nominating...</td>\n",
       "      <td>Party overflow</td>\n",
       "    </tr>\n",
       "    <tr>\n",
       "      <th>33970</th>\n",
       "      <td>Nigeria</td>\n",
       "      <td>Mr. Abideen Abdulsalam Usman</td>\n",
       "      <td>assistant director</td>\n",
       "      <td>management</td>\n",
       "      <td>nigerian national petroleum cooperation</td>\n",
       "      <td>Paid relationship/contract with the nominating...</td>\n",
       "      <td>Party overflow</td>\n",
       "    </tr>\n",
       "    <tr>\n",
       "      <th>34020</th>\n",
       "      <td>Nigeria</td>\n",
       "      <td>Mr. Chinedu Eze Igwe</td>\n",
       "      <td>Manager</td>\n",
       "      <td>Sustainability strategy standards &amp; Policy</td>\n",
       "      <td>Nigerian National petroleum Cooperation</td>\n",
       "      <td>Paid relationship/contract with the nominating...</td>\n",
       "      <td>Party overflow</td>\n",
       "    </tr>\n",
       "  </tbody>\n",
       "</table>\n",
       "</div>"
      ],
      "text/plain": [
       "      nominator                                  name  \\\n",
       "9901     Kuwait                Mr. Mohammad Alghareeb   \n",
       "12568   Nigeria                 Mr. Enene Xynex Ambah   \n",
       "12775      Oman                   Mr. Nasser Al Salmi   \n",
       "12779      Oman                  Mr. Mohammed Al Ajmi   \n",
       "25431     Egypt          Mr. Ali Amr Ali Hassan Egeza   \n",
       "25443     Egypt     Mr. Ahmed Mahmoud Mohamed Elsayed   \n",
       "25448     Egypt          Ms. Gihan Mohamed Said Farid   \n",
       "25466     Egypt  Mr. Ibrahim Abdelkader Mekky Maghoub   \n",
       "33824   Nigeria                   Mr. Daniel Roy Bako   \n",
       "33826   Nigeria                Mr. Bassey Edem Bassey   \n",
       "33835   Nigeria     Mr. Lawrence Ifeaghochukwu Chukwu   \n",
       "33845   Nigeria            Ms. Uzoma Maudline Emelife   \n",
       "33959   Nigeria        Mr. Ahmad Muhammad Lula Sokoto   \n",
       "33970   Nigeria          Mr. Abideen Abdulsalam Usman   \n",
       "34020   Nigeria                  Mr. Chinedu Eze Igwe   \n",
       "\n",
       "                             func_title  \\\n",
       "9901       Security and safety engineer   \n",
       "12568            senior special Advicer   \n",
       "12775  Enviromental Development Adviser   \n",
       "12779             Corporate GHG Advisor   \n",
       "25431             Marketing Coordinator   \n",
       "25443                          Chairman   \n",
       "25448   Spouse of Minister of petroleum   \n",
       "25466                 Chairman of Board   \n",
       "33824                Climate specialist   \n",
       "33826                assistant director   \n",
       "33835                   deputy director   \n",
       "33845                          Director   \n",
       "33959           Group managing Director   \n",
       "33970                assistant director   \n",
       "34020                           Manager   \n",
       "\n",
       "                                       department  \\\n",
       "9901       Kuwait petroleum international company   \n",
       "12568                            ministers office   \n",
       "12775                                  Enviroment   \n",
       "12779                                 Environment   \n",
       "25431                       Ministry of petroleum   \n",
       "25443                       Ministry of petroleum   \n",
       "25448                       Ministry of petroleum   \n",
       "25466                       Ministry of petroleum   \n",
       "33824                              sustainability   \n",
       "33826                            renewable energy   \n",
       "33835                                  management   \n",
       "33845                                  management   \n",
       "33959                              Renewal energy   \n",
       "33970                                  management   \n",
       "34020  Sustainability strategy standards & Policy   \n",
       "\n",
       "                                  organization  \\\n",
       "9901    Kuwait petroleum international company   \n",
       "12568  federal ministry of petroleum Resources   \n",
       "12775               petroleum development oman   \n",
       "12779               petroleum development Oman   \n",
       "25431                    Ministry of petroleum   \n",
       "25443                    Ministry of petroleum   \n",
       "25448                    Ministry of petroleum   \n",
       "25466                    Ministry of petroleum   \n",
       "33824            Federal ministry of petroleum   \n",
       "33826  nigerian national petroleum cooperation   \n",
       "33835  nigerian national petroleum cooperation   \n",
       "33845   Nigerian National petroleum coopertion   \n",
       "33959  nigerian national petroleum cooperation   \n",
       "33970  nigerian national petroleum cooperation   \n",
       "34020  Nigerian National petroleum Cooperation   \n",
       "\n",
       "                                                relation            type  \n",
       "9901                            Unpaid advisory capacity         Parties  \n",
       "12568  Paid relationship/contract with the nominating...         Parties  \n",
       "12775  Paid relationship/contract with the nominating...         Parties  \n",
       "12779  Paid relationship/contract with the nominating...         Parties  \n",
       "25431                             Choose not to disclose  Party overflow  \n",
       "25443                             Choose not to disclose  Party overflow  \n",
       "25448                             Choose not to disclose  Party overflow  \n",
       "25466                             Choose not to disclose  Party overflow  \n",
       "33824  Paid relationship/contract with the nominating...  Party overflow  \n",
       "33826  Paid relationship/contract with the nominating...  Party overflow  \n",
       "33835  Paid relationship/contract with an affiliate/m...  Party overflow  \n",
       "33845  Paid relationship/contract with the nominating...  Party overflow  \n",
       "33959  Paid relationship/contract with the nominating...  Party overflow  \n",
       "33970  Paid relationship/contract with the nominating...  Party overflow  \n",
       "34020  Paid relationship/contract with the nominating...  Party overflow  "
      ]
     },
     "execution_count": 9,
     "metadata": {},
     "output_type": "execute_result"
    }
   ],
   "source": [
    "phrase = \"petroleum\"\n",
    "mask = np.column_stack([all_delegates[col].str.contains(phrase, na=False) for col in all_delegates[[\"organization\",\"nominator\"]]])\n",
    "phrase_delegates = all_delegates.loc[mask.any(axis=1)]\n",
    "phrase_delegates"
   ]
  },
  {
   "cell_type": "code",
   "execution_count": 8,
   "id": "eff302b4-d5fe-4c78-ac95-ec1ac525b8b0",
   "metadata": {
    "tags": []
   },
   "outputs": [
    {
     "data": {
      "text/plain": [
       "5"
      ]
     },
     "execution_count": 8,
     "metadata": {},
     "output_type": "execute_result"
    }
   ],
   "source": [
    "len(phrase_delegates)"
   ]
  },
  {
   "cell_type": "code",
   "execution_count": 28,
   "id": "22e62b06-993f-4211-8e12-b067ef544ee9",
   "metadata": {
    "tags": []
   },
   "outputs": [
    {
     "data": {
      "text/plain": [
       "27631"
      ]
     },
     "execution_count": 28,
     "metadata": {},
     "output_type": "execute_result"
    }
   ],
   "source": [
    "len(all_delegates[\"organization\"].unique())"
   ]
  },
  {
   "cell_type": "code",
   "execution_count": 29,
   "id": "23696dfe-53b6-49a3-9da7-7f74ddab2ed5",
   "metadata": {
    "tags": []
   },
   "outputs": [
    {
     "data": {
      "text/plain": [
       "81027"
      ]
     },
     "execution_count": 29,
     "metadata": {},
     "output_type": "execute_result"
    }
   ],
   "source": [
    "len(all_delegates)"
   ]
  },
  {
   "cell_type": "code",
   "execution_count": 41,
   "id": "6d276126-6104-4825-a204-55747a75409c",
   "metadata": {
    "tags": []
   },
   "outputs": [
    {
     "data": {
      "text/plain": [
       "56580"
      ]
     },
     "execution_count": 41,
     "metadata": {},
     "output_type": "execute_result"
    }
   ],
   "source": [
    "len(all_delegates[all_delegates[\"type\"].isin([\"Parties\",\"Party overflow\",'Host country guests'])])"
   ]
  },
  {
   "cell_type": "code",
   "execution_count": 43,
   "id": "123ef754-698f-48a8-81f5-2bab5a1cd1a1",
   "metadata": {
    "tags": []
   },
   "outputs": [
    {
     "data": {
      "text/plain": [
       "16235"
      ]
     },
     "execution_count": 43,
     "metadata": {},
     "output_type": "execute_result"
    }
   ],
   "source": [
    "len(all_delegates[all_delegates[\"type\"].isin(['Intergovernmental organizations',\n",
    "       'Non-governmental organizations'])])"
   ]
  },
  {
   "cell_type": "code",
   "execution_count": 44,
   "id": "0ed11505-3bb7-4d90-8086-07683d28bfd5",
   "metadata": {
    "tags": []
   },
   "outputs": [
    {
     "data": {
      "text/plain": [
       "3972"
      ]
     },
     "execution_count": 44,
     "metadata": {},
     "output_type": "execute_result"
    }
   ],
   "source": [
    "len(all_delegates[all_delegates[\"type\"].isin(['Media'])])"
   ]
  },
  {
   "cell_type": "code",
   "execution_count": null,
   "id": "2fa6b21b-3e44-4cea-86c4-dfbd020b7088",
   "metadata": {},
   "outputs": [],
   "source": []
  }
 ],
 "metadata": {
  "kernelspec": {
   "display_name": "Python 3 (ipykernel)",
   "language": "python",
   "name": "python3"
  },
  "language_info": {
   "codemirror_mode": {
    "name": "ipython",
    "version": 3
   },
   "file_extension": ".py",
   "mimetype": "text/x-python",
   "name": "python",
   "nbconvert_exporter": "python",
   "pygments_lexer": "ipython3",
   "version": "3.8.17"
  }
 },
 "nbformat": 4,
 "nbformat_minor": 5
}
