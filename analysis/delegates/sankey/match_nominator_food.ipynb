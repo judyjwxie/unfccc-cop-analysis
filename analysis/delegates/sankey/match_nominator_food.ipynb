{
 "cells": [
  {
   "cell_type": "code",
   "execution_count": 1,
   "id": "cd338508-9545-4304-9100-b35e76134172",
   "metadata": {
    "tags": []
   },
   "outputs": [],
   "source": [
    "import pandas as pd\n",
    "import numpy as np\n",
    "import plotly.graph_objects as go"
   ]
  },
  {
   "cell_type": "code",
   "execution_count": 2,
   "id": "adc8dfba-ec4a-4464-8573-c546daaad617",
   "metadata": {
    "tags": []
   },
   "outputs": [],
   "source": [
    "#food_data = pd.read_excel(\"../COP28_delegates_food_organizations_renamed_filtered.xlsx\")\n",
    "food_data = pd.read_excel(\"../COP28_delegates_meat&dairy_renamed_filtered_checked.xlsx\")\n",
    "food_data[\"count\"] = 1"
   ]
  },
  {
   "cell_type": "code",
   "execution_count": 3,
   "id": "3534a0cb-64b6-452a-9d37-5dbec8072c3d",
   "metadata": {
    "tags": []
   },
   "outputs": [],
   "source": [
    "party_names = pd.read_csv(\"../../orgs/org_list_party.csv\",encoding = 'utf8')\n",
    "ngo_names = pd.read_csv(\"../../orgs/org_list_ngo.csv\",encoding = 'utf8')\n",
    "ngo_names_match = pd.read_excel(\"../../orgs/org_list_ngo_check.xlsx\",sheet_name=\"match\")"
   ]
  },
  {
   "cell_type": "code",
   "execution_count": 4,
   "id": "273aa496-7c5b-4264-807e-64231b29e817",
   "metadata": {
    "tags": []
   },
   "outputs": [
    {
     "data": {
      "text/html": [
       "<div>\n",
       "<style scoped>\n",
       "    .dataframe tbody tr th:only-of-type {\n",
       "        vertical-align: middle;\n",
       "    }\n",
       "\n",
       "    .dataframe tbody tr th {\n",
       "        vertical-align: top;\n",
       "    }\n",
       "\n",
       "    .dataframe thead th {\n",
       "        text-align: right;\n",
       "    }\n",
       "</style>\n",
       "<table border=\"1\" class=\"dataframe\">\n",
       "  <thead>\n",
       "    <tr style=\"text-align: right;\">\n",
       "      <th></th>\n",
       "      <th>nominator</th>\n",
       "      <th>name</th>\n",
       "      <th>func_title</th>\n",
       "      <th>department</th>\n",
       "      <th>organization</th>\n",
       "      <th>relation</th>\n",
       "      <th>new_organization</th>\n",
       "      <th>count</th>\n",
       "      <th>nominator_type</th>\n",
       "      <th>country</th>\n",
       "      <th>nominator_rename</th>\n",
       "      <th>party</th>\n",
       "      <th>country_type</th>\n",
       "    </tr>\n",
       "  </thead>\n",
       "  <tbody>\n",
       "    <tr>\n",
       "      <th>0</th>\n",
       "      <td>Thailand</td>\n",
       "      <td>Mr. Somjettana Pasakanon</td>\n",
       "      <td>DIRECTOR OF SUSTAINABILITY DEVELOPMENT</td>\n",
       "      <td>CHAROEN POKPHAND GROUP CO., LTD.</td>\n",
       "      <td>CHAROEN POKPHAND GROUP CO., LTD.</td>\n",
       "      <td>Choose not to disclose</td>\n",
       "      <td>Charoen Pokphand</td>\n",
       "      <td>1</td>\n",
       "      <td>Parties</td>\n",
       "      <td>Thailand</td>\n",
       "      <td>Thailand</td>\n",
       "      <td>Thailand</td>\n",
       "      <td>Non-Annex</td>\n",
       "    </tr>\n",
       "    <tr>\n",
       "      <th>1</th>\n",
       "      <td>Australia</td>\n",
       "      <td>Gracie Verde Selva</td>\n",
       "      <td>Executive Manager</td>\n",
       "      <td>Sustainability</td>\n",
       "      <td>Minerva Foods</td>\n",
       "      <td>Stakeholder</td>\n",
       "      <td>Minerva Foods</td>\n",
       "      <td>1</td>\n",
       "      <td>Party overflow</td>\n",
       "      <td>Australia</td>\n",
       "      <td>Australia</td>\n",
       "      <td>Australia</td>\n",
       "      <td>Annex II</td>\n",
       "    </tr>\n",
       "    <tr>\n",
       "      <th>2</th>\n",
       "      <td>Brazil</td>\n",
       "      <td>Mr. SalomÃ£o Abib</td>\n",
       "      <td>Corporate Sustainability Coordinator</td>\n",
       "      <td>Sustainability</td>\n",
       "      <td>Minerva Foods</td>\n",
       "      <td>Guest of the nominating entity</td>\n",
       "      <td>Minerva Foods</td>\n",
       "      <td>1</td>\n",
       "      <td>Party overflow</td>\n",
       "      <td>Brazil</td>\n",
       "      <td>Brazil</td>\n",
       "      <td>Brazil</td>\n",
       "      <td>Non-Annex</td>\n",
       "    </tr>\n",
       "    <tr>\n",
       "      <th>3</th>\n",
       "      <td>Brazil</td>\n",
       "      <td>Ms. Andrea Aguiar Azevedo</td>\n",
       "      <td>Executive director</td>\n",
       "      <td>Programs and Project</td>\n",
       "      <td>JBS Fund for the Amazon</td>\n",
       "      <td>Guest of the nominating entity</td>\n",
       "      <td>JBS</td>\n",
       "      <td>1</td>\n",
       "      <td>Party overflow</td>\n",
       "      <td>Brazil</td>\n",
       "      <td>Brazil</td>\n",
       "      <td>Brazil</td>\n",
       "      <td>Non-Annex</td>\n",
       "    </tr>\n",
       "    <tr>\n",
       "      <th>4</th>\n",
       "      <td>Brazil</td>\n",
       "      <td>Mr. Frederico Alcantara de Queiroz</td>\n",
       "      <td>Chief Operating Officer</td>\n",
       "      <td>Related Business</td>\n",
       "      <td>Minerva Foods</td>\n",
       "      <td>Guest of the nominating entity</td>\n",
       "      <td>Minerva Foods</td>\n",
       "      <td>1</td>\n",
       "      <td>Party overflow</td>\n",
       "      <td>Brazil</td>\n",
       "      <td>Brazil</td>\n",
       "      <td>Brazil</td>\n",
       "      <td>Non-Annex</td>\n",
       "    </tr>\n",
       "    <tr>\n",
       "      <th>...</th>\n",
       "      <td>...</td>\n",
       "      <td>...</td>\n",
       "      <td>...</td>\n",
       "      <td>...</td>\n",
       "      <td>...</td>\n",
       "      <td>...</td>\n",
       "      <td>...</td>\n",
       "      <td>...</td>\n",
       "      <td>...</td>\n",
       "      <td>...</td>\n",
       "      <td>...</td>\n",
       "      <td>...</td>\n",
       "      <td>...</td>\n",
       "    </tr>\n",
       "    <tr>\n",
       "      <th>83</th>\n",
       "      <td>World Business Council for Sustainable Develop...</td>\n",
       "      <td>Ms. Salma Faisal Selim Elhalaby</td>\n",
       "      <td>MENA Head of Sustainability &amp; CSV</td>\n",
       "      <td>Corporate Affairs &amp; Sustainability</td>\n",
       "      <td>Nestle</td>\n",
       "      <td>Guest of the nominating entity</td>\n",
       "      <td>Nestle</td>\n",
       "      <td>1</td>\n",
       "      <td>Constituency - Business and Industry</td>\n",
       "      <td>Switzerland</td>\n",
       "      <td>World Business Council for Sustainable Develop...</td>\n",
       "      <td>Switzerland</td>\n",
       "      <td>Annex II</td>\n",
       "    </tr>\n",
       "    <tr>\n",
       "      <th>84</th>\n",
       "      <td>World Business Council for Sustainable Develop...</td>\n",
       "      <td>Ms. Haya Shanata</td>\n",
       "      <td>Communication Manager</td>\n",
       "      <td>Communication</td>\n",
       "      <td>Danone</td>\n",
       "      <td>Guest of the nominating entity</td>\n",
       "      <td>Danone</td>\n",
       "      <td>1</td>\n",
       "      <td>Constituency - Business and Industry</td>\n",
       "      <td>Switzerland</td>\n",
       "      <td>World Business Council for Sustainable Develop...</td>\n",
       "      <td>Switzerland</td>\n",
       "      <td>Annex II</td>\n",
       "    </tr>\n",
       "    <tr>\n",
       "      <th>85</th>\n",
       "      <td>Global Climate Action</td>\n",
       "      <td>Ms. Nahla Kamal</td>\n",
       "      <td>Director</td>\n",
       "      <td>Sustainability and Corporate Affairs</td>\n",
       "      <td>Nestle</td>\n",
       "      <td>MP</td>\n",
       "      <td>Nestle</td>\n",
       "      <td>1</td>\n",
       "      <td>United Nations Organization</td>\n",
       "      <td>International</td>\n",
       "      <td>Global Climate Action</td>\n",
       "      <td>NaN</td>\n",
       "      <td>Non-Country</td>\n",
       "    </tr>\n",
       "    <tr>\n",
       "      <th>86</th>\n",
       "      <td>Host Country Badges - COP 28</td>\n",
       "      <td>Ms. Suzanne Camargo De Colon</td>\n",
       "      <td>Board Member</td>\n",
       "      <td>Board</td>\n",
       "      <td>Minerva Foods</td>\n",
       "      <td>Guest of the nominating entity</td>\n",
       "      <td>Minerva Foods</td>\n",
       "      <td>1</td>\n",
       "      <td>Host</td>\n",
       "      <td>United Arab Emirates</td>\n",
       "      <td>Host country guests</td>\n",
       "      <td>United Arab Emirates</td>\n",
       "      <td>Non-Annex</td>\n",
       "    </tr>\n",
       "    <tr>\n",
       "      <th>87</th>\n",
       "      <td>Host Country Badges - COP 28</td>\n",
       "      <td>Mr. Ahmed Elshaal</td>\n",
       "      <td>General Secretary Director Middle East</td>\n",
       "      <td>Public Afaris</td>\n",
       "      <td>Danone</td>\n",
       "      <td>Speaker</td>\n",
       "      <td>Danone</td>\n",
       "      <td>1</td>\n",
       "      <td>Host</td>\n",
       "      <td>United Arab Emirates</td>\n",
       "      <td>Host country guests</td>\n",
       "      <td>United Arab Emirates</td>\n",
       "      <td>Non-Annex</td>\n",
       "    </tr>\n",
       "  </tbody>\n",
       "</table>\n",
       "<p>88 rows × 13 columns</p>\n",
       "</div>"
      ],
      "text/plain": [
       "                                            nominator  \\\n",
       "0                                            Thailand   \n",
       "1                                           Australia   \n",
       "2                                              Brazil   \n",
       "3                                              Brazil   \n",
       "4                                              Brazil   \n",
       "..                                                ...   \n",
       "83  World Business Council for Sustainable Develop...   \n",
       "84  World Business Council for Sustainable Develop...   \n",
       "85                              Global Climate Action   \n",
       "86                       Host Country Badges - COP 28   \n",
       "87                       Host Country Badges - COP 28   \n",
       "\n",
       "                                  name  \\\n",
       "0             Mr. Somjettana Pasakanon   \n",
       "1                   Gracie Verde Selva   \n",
       "2                    Mr. SalomÃ£o Abib   \n",
       "3            Ms. Andrea Aguiar Azevedo   \n",
       "4   Mr. Frederico Alcantara de Queiroz   \n",
       "..                                 ...   \n",
       "83     Ms. Salma Faisal Selim Elhalaby   \n",
       "84                    Ms. Haya Shanata   \n",
       "85                     Ms. Nahla Kamal   \n",
       "86        Ms. Suzanne Camargo De Colon   \n",
       "87                   Mr. Ahmed Elshaal   \n",
       "\n",
       "                                func_title  \\\n",
       "0   DIRECTOR OF SUSTAINABILITY DEVELOPMENT   \n",
       "1                        Executive Manager   \n",
       "2     Corporate Sustainability Coordinator   \n",
       "3                       Executive director   \n",
       "4                  Chief Operating Officer   \n",
       "..                                     ...   \n",
       "83       MENA Head of Sustainability & CSV   \n",
       "84                   Communication Manager   \n",
       "85                                Director   \n",
       "86                            Board Member   \n",
       "87  General Secretary Director Middle East   \n",
       "\n",
       "                              department                      organization  \\\n",
       "0       CHAROEN POKPHAND GROUP CO., LTD.  CHAROEN POKPHAND GROUP CO., LTD.   \n",
       "1                         Sustainability                     Minerva Foods   \n",
       "2                         Sustainability                     Minerva Foods   \n",
       "3                   Programs and Project           JBS Fund for the Amazon   \n",
       "4                       Related Business                     Minerva Foods   \n",
       "..                                   ...                               ...   \n",
       "83    Corporate Affairs & Sustainability                            Nestle   \n",
       "84                         Communication                            Danone   \n",
       "85  Sustainability and Corporate Affairs                            Nestle   \n",
       "86                                 Board                     Minerva Foods   \n",
       "87                         Public Afaris                            Danone   \n",
       "\n",
       "                          relation  new_organization  count  \\\n",
       "0           Choose not to disclose  Charoen Pokphand      1   \n",
       "1                      Stakeholder     Minerva Foods      1   \n",
       "2   Guest of the nominating entity     Minerva Foods      1   \n",
       "3   Guest of the nominating entity               JBS      1   \n",
       "4   Guest of the nominating entity     Minerva Foods      1   \n",
       "..                             ...               ...    ...   \n",
       "83  Guest of the nominating entity            Nestle      1   \n",
       "84  Guest of the nominating entity            Danone      1   \n",
       "85                              MP            Nestle      1   \n",
       "86  Guest of the nominating entity     Minerva Foods      1   \n",
       "87                         Speaker            Danone      1   \n",
       "\n",
       "                          nominator_type               country  \\\n",
       "0                                Parties              Thailand   \n",
       "1                         Party overflow             Australia   \n",
       "2                         Party overflow                Brazil   \n",
       "3                         Party overflow                Brazil   \n",
       "4                         Party overflow                Brazil   \n",
       "..                                   ...                   ...   \n",
       "83  Constituency - Business and Industry           Switzerland   \n",
       "84  Constituency - Business and Industry           Switzerland   \n",
       "85           United Nations Organization         International   \n",
       "86                                  Host  United Arab Emirates   \n",
       "87                                  Host  United Arab Emirates   \n",
       "\n",
       "                                     nominator_rename                 party  \\\n",
       "0                                          Thailand                Thailand   \n",
       "1                                         Australia               Australia   \n",
       "2                                            Brazil                  Brazil   \n",
       "3                                            Brazil                  Brazil   \n",
       "4                                            Brazil                  Brazil   \n",
       "..                                                ...                   ...   \n",
       "83  World Business Council for Sustainable Develop...           Switzerland   \n",
       "84  World Business Council for Sustainable Develop...           Switzerland   \n",
       "85                              Global Climate Action                   NaN   \n",
       "86                                Host country guests  United Arab Emirates   \n",
       "87                                Host country guests  United Arab Emirates   \n",
       "\n",
       "   country_type  \n",
       "0     Non-Annex  \n",
       "1      Annex II  \n",
       "2     Non-Annex  \n",
       "3     Non-Annex  \n",
       "4     Non-Annex  \n",
       "..          ...  \n",
       "83     Annex II  \n",
       "84     Annex II  \n",
       "85  Non-Country  \n",
       "86    Non-Annex  \n",
       "87    Non-Annex  \n",
       "\n",
       "[88 rows x 13 columns]"
      ]
     },
     "execution_count": 4,
     "metadata": {},
     "output_type": "execute_result"
    }
   ],
   "source": [
    "main_groups = food_data.copy()\n",
    "\n",
    "# add party names\n",
    "for i in main_groups.index:\n",
    "    nominator = main_groups.loc[i,\"nominator\"]\n",
    "    if nominator == \"Turkiye\":\n",
    "        nominator = \"Türkiye\"\n",
    "    \n",
    "    # party members\n",
    "    if nominator in party_names[\"party\"].unique(): \n",
    "        main_groups.loc[i,\"nominator_type\"] = main_groups.loc[i,\"type\"]\n",
    "        main_groups.loc[i,\"country\"] = nominator\n",
    "        main_groups.loc[i,\"nominator_rename\"] = nominator + \"  \"\n",
    "    # non party organizations\n",
    "    elif nominator in ngo_names_match[\"nominator\"].unique(): \n",
    "        matched_name = ngo_names_match.query(\"nominator==@nominator\")[\"matched_name\"].iloc[0]\n",
    "        matched_name = matched_name.replace(\"Ã³\",\"ó\").replace(\"Ã§\",\"ç\").replace(\"Ã©\",\"é\").replace(\"Ã±\",\"ñ\").replace(\"Ã£\",\"ã\")\n",
    "        main_groups.loc[i,\"nominator_type\"] = ngo_names.query(\"Organization==@matched_name\")[\"Constituency\"].iloc[0].replace(\" CAN\",\"\")\n",
    "        main_groups.loc[i,\"country\"] = ngo_names.query(\"Organization==@matched_name\")[\"Country\"].iloc[0]\n",
    "        main_groups.loc[i,\"nominator_rename\"] = nominator\n",
    "    elif nominator in [\"Host country guests\",\"Conference Invitees\",\"Host Country Badges - COP 28\"]:\n",
    "        main_groups.loc[i,\"nominator_type\"] = \"Host\"\n",
    "        main_groups.loc[i,\"country\"] = \"United Arab Emirates\"\n",
    "        main_groups.loc[i,\"nominator_rename\"] = \"Host country guests\"\n",
    "    elif nominator in [\"World Bank Group\",\"Global Climate Action\"]:\n",
    "        main_groups.loc[i,\"nominator_type\"] = \"United Nations Organization\"\n",
    "        main_groups.loc[i,\"country\"] = \"International\"\n",
    "        main_groups.loc[i,\"nominator_rename\"] = nominator\n",
    "    elif nominator in [\"League of Arab States\"]:\n",
    "        main_groups.loc[i,\"nominator_type\"] = \"Intergovernmental Organizations\"\n",
    "        main_groups.loc[i,\"country\"] = \"International\"\n",
    "        main_groups.loc[i,\"nominator_rename\"] = nominator\n",
    "main_groups = main_groups.drop(columns=\"type\")\n",
    "main_groups = pd.merge(main_groups,party_names[[\"party\",\"type\"]],left_on=\"country\",right_on=\"party\",how=\"left\")\n",
    "main_groups = main_groups.rename(columns={\"type\":\"country_type\"})\n",
    "main_groups[\"country_type\"] = main_groups[\"country_type\"].fillna(\"Non-Country\")\n",
    "#main_groups.set_index(\"nominator\").to_csv(\"test.csv\")\n",
    "main_groups"
   ]
  },
  {
   "cell_type": "code",
   "execution_count": 5,
   "id": "8fed520f-363e-4fc6-b48c-7a9a95cbf03c",
   "metadata": {
    "tags": []
   },
   "outputs": [
    {
     "data": {
      "text/html": [
       "<div>\n",
       "<style scoped>\n",
       "    .dataframe tbody tr th:only-of-type {\n",
       "        vertical-align: middle;\n",
       "    }\n",
       "\n",
       "    .dataframe tbody tr th {\n",
       "        vertical-align: top;\n",
       "    }\n",
       "\n",
       "    .dataframe thead th {\n",
       "        text-align: right;\n",
       "    }\n",
       "</style>\n",
       "<table border=\"1\" class=\"dataframe\">\n",
       "  <thead>\n",
       "    <tr style=\"text-align: right;\">\n",
       "      <th></th>\n",
       "      <th>nominator</th>\n",
       "      <th>name</th>\n",
       "      <th>func_title</th>\n",
       "      <th>department</th>\n",
       "      <th>organization</th>\n",
       "      <th>relation</th>\n",
       "      <th>new_organization</th>\n",
       "      <th>count</th>\n",
       "      <th>nominator_type</th>\n",
       "      <th>country</th>\n",
       "      <th>nominator_rename</th>\n",
       "      <th>party</th>\n",
       "      <th>country_type</th>\n",
       "    </tr>\n",
       "  </thead>\n",
       "  <tbody>\n",
       "    <tr>\n",
       "      <th>61</th>\n",
       "      <td>League of Arab States</td>\n",
       "      <td>Mr. Hesham Abdelbary</td>\n",
       "      <td>Expert</td>\n",
       "      <td>Nestle</td>\n",
       "      <td>Nestle</td>\n",
       "      <td>Partner/sponsorship of the nominating entity</td>\n",
       "      <td>Nestle</td>\n",
       "      <td>1</td>\n",
       "      <td>Intergovernmental Organizations</td>\n",
       "      <td>International</td>\n",
       "      <td>League of Arab States</td>\n",
       "      <td>NaN</td>\n",
       "      <td>Non-Country</td>\n",
       "    </tr>\n",
       "    <tr>\n",
       "      <th>62</th>\n",
       "      <td>League of Arab States</td>\n",
       "      <td>Mr. Yasser Abdul Malak</td>\n",
       "      <td>Expert</td>\n",
       "      <td>Nestle</td>\n",
       "      <td>Nestle</td>\n",
       "      <td>Partner/sponsorship of the nominating entity</td>\n",
       "      <td>Nestle</td>\n",
       "      <td>1</td>\n",
       "      <td>Intergovernmental Organizations</td>\n",
       "      <td>International</td>\n",
       "      <td>League of Arab States</td>\n",
       "      <td>NaN</td>\n",
       "      <td>Non-Country</td>\n",
       "    </tr>\n",
       "    <tr>\n",
       "      <th>63</th>\n",
       "      <td>League of Arab States</td>\n",
       "      <td>Ms. Karine Antoniades</td>\n",
       "      <td>Expert</td>\n",
       "      <td>Nestle</td>\n",
       "      <td>Nestle</td>\n",
       "      <td>Partner/sponsorship of the nominating entity</td>\n",
       "      <td>Nestle</td>\n",
       "      <td>1</td>\n",
       "      <td>Intergovernmental Organizations</td>\n",
       "      <td>International</td>\n",
       "      <td>League of Arab States</td>\n",
       "      <td>NaN</td>\n",
       "      <td>Non-Country</td>\n",
       "    </tr>\n",
       "    <tr>\n",
       "      <th>64</th>\n",
       "      <td>League of Arab States</td>\n",
       "      <td>Ms. Michele Dagher</td>\n",
       "      <td>Expert</td>\n",
       "      <td>Nestle</td>\n",
       "      <td>Nestle</td>\n",
       "      <td>Partner/sponsorship of the nominating entity</td>\n",
       "      <td>Nestle</td>\n",
       "      <td>1</td>\n",
       "      <td>Intergovernmental Organizations</td>\n",
       "      <td>International</td>\n",
       "      <td>League of Arab States</td>\n",
       "      <td>NaN</td>\n",
       "      <td>Non-Country</td>\n",
       "    </tr>\n",
       "    <tr>\n",
       "      <th>65</th>\n",
       "      <td>League of Arab States</td>\n",
       "      <td>Ms. Layal Dalal</td>\n",
       "      <td>Expert</td>\n",
       "      <td>Nestle</td>\n",
       "      <td>Nestle</td>\n",
       "      <td>Partner/sponsorship of the nominating entity</td>\n",
       "      <td>Nestle</td>\n",
       "      <td>1</td>\n",
       "      <td>Intergovernmental Organizations</td>\n",
       "      <td>International</td>\n",
       "      <td>League of Arab States</td>\n",
       "      <td>NaN</td>\n",
       "      <td>Non-Country</td>\n",
       "    </tr>\n",
       "    <tr>\n",
       "      <th>66</th>\n",
       "      <td>League of Arab States</td>\n",
       "      <td>Mr. Hassan ElDabaa</td>\n",
       "      <td>Manager</td>\n",
       "      <td>Nestle</td>\n",
       "      <td>Nestle</td>\n",
       "      <td>Partner/sponsorship of the nominating entity</td>\n",
       "      <td>Nestle</td>\n",
       "      <td>1</td>\n",
       "      <td>Intergovernmental Organizations</td>\n",
       "      <td>International</td>\n",
       "      <td>League of Arab States</td>\n",
       "      <td>NaN</td>\n",
       "      <td>Non-Country</td>\n",
       "    </tr>\n",
       "    <tr>\n",
       "      <th>67</th>\n",
       "      <td>League of Arab States</td>\n",
       "      <td>Ms. Dina Mohamed</td>\n",
       "      <td>Expert</td>\n",
       "      <td>Nestle</td>\n",
       "      <td>Nestle</td>\n",
       "      <td>Partner/sponsorship of the nominating entity</td>\n",
       "      <td>Nestle</td>\n",
       "      <td>1</td>\n",
       "      <td>Intergovernmental Organizations</td>\n",
       "      <td>International</td>\n",
       "      <td>League of Arab States</td>\n",
       "      <td>NaN</td>\n",
       "      <td>Non-Country</td>\n",
       "    </tr>\n",
       "    <tr>\n",
       "      <th>68</th>\n",
       "      <td>League of Arab States</td>\n",
       "      <td>Mr. Alain Tamas Riesterer</td>\n",
       "      <td>Expert</td>\n",
       "      <td>Nestle</td>\n",
       "      <td>Nestle</td>\n",
       "      <td>Partner/sponsorship of the nominating entity</td>\n",
       "      <td>Nestle</td>\n",
       "      <td>1</td>\n",
       "      <td>Intergovernmental Organizations</td>\n",
       "      <td>International</td>\n",
       "      <td>League of Arab States</td>\n",
       "      <td>NaN</td>\n",
       "      <td>Non-Country</td>\n",
       "    </tr>\n",
       "  </tbody>\n",
       "</table>\n",
       "</div>"
      ],
      "text/plain": [
       "                nominator                       name func_title department  \\\n",
       "61  League of Arab States       Mr. Hesham Abdelbary     Expert     Nestle   \n",
       "62  League of Arab States     Mr. Yasser Abdul Malak     Expert     Nestle   \n",
       "63  League of Arab States      Ms. Karine Antoniades     Expert     Nestle   \n",
       "64  League of Arab States         Ms. Michele Dagher     Expert     Nestle   \n",
       "65  League of Arab States            Ms. Layal Dalal     Expert     Nestle   \n",
       "66  League of Arab States         Mr. Hassan ElDabaa    Manager     Nestle   \n",
       "67  League of Arab States           Ms. Dina Mohamed     Expert     Nestle   \n",
       "68  League of Arab States  Mr. Alain Tamas Riesterer     Expert     Nestle   \n",
       "\n",
       "   organization                                      relation  \\\n",
       "61       Nestle  Partner/sponsorship of the nominating entity   \n",
       "62       Nestle  Partner/sponsorship of the nominating entity   \n",
       "63       Nestle  Partner/sponsorship of the nominating entity   \n",
       "64       Nestle  Partner/sponsorship of the nominating entity   \n",
       "65       Nestle  Partner/sponsorship of the nominating entity   \n",
       "66       Nestle  Partner/sponsorship of the nominating entity   \n",
       "67       Nestle  Partner/sponsorship of the nominating entity   \n",
       "68       Nestle  Partner/sponsorship of the nominating entity   \n",
       "\n",
       "   new_organization  count                   nominator_type        country  \\\n",
       "61           Nestle      1  Intergovernmental Organizations  International   \n",
       "62           Nestle      1  Intergovernmental Organizations  International   \n",
       "63           Nestle      1  Intergovernmental Organizations  International   \n",
       "64           Nestle      1  Intergovernmental Organizations  International   \n",
       "65           Nestle      1  Intergovernmental Organizations  International   \n",
       "66           Nestle      1  Intergovernmental Organizations  International   \n",
       "67           Nestle      1  Intergovernmental Organizations  International   \n",
       "68           Nestle      1  Intergovernmental Organizations  International   \n",
       "\n",
       "         nominator_rename party country_type  \n",
       "61  League of Arab States   NaN  Non-Country  \n",
       "62  League of Arab States   NaN  Non-Country  \n",
       "63  League of Arab States   NaN  Non-Country  \n",
       "64  League of Arab States   NaN  Non-Country  \n",
       "65  League of Arab States   NaN  Non-Country  \n",
       "66  League of Arab States   NaN  Non-Country  \n",
       "67  League of Arab States   NaN  Non-Country  \n",
       "68  League of Arab States   NaN  Non-Country  "
      ]
     },
     "execution_count": 5,
     "metadata": {},
     "output_type": "execute_result"
    }
   ],
   "source": [
    "main_groups[main_groups[\"nominator\"]==\"League of Arab States\"]"
   ]
  },
  {
   "cell_type": "code",
   "execution_count": 6,
   "id": "92e9cd54-308d-46a7-b423-e0bd1b37161c",
   "metadata": {
    "tags": []
   },
   "outputs": [
    {
     "data": {
      "text/html": [
       "<div>\n",
       "<style scoped>\n",
       "    .dataframe tbody tr th:only-of-type {\n",
       "        vertical-align: middle;\n",
       "    }\n",
       "\n",
       "    .dataframe tbody tr th {\n",
       "        vertical-align: top;\n",
       "    }\n",
       "\n",
       "    .dataframe thead th {\n",
       "        text-align: right;\n",
       "    }\n",
       "</style>\n",
       "<table border=\"1\" class=\"dataframe\">\n",
       "  <thead>\n",
       "    <tr style=\"text-align: right;\">\n",
       "      <th></th>\n",
       "      <th>count</th>\n",
       "    </tr>\n",
       "    <tr>\n",
       "      <th>country</th>\n",
       "      <th></th>\n",
       "    </tr>\n",
       "  </thead>\n",
       "  <tbody>\n",
       "    <tr>\n",
       "      <th>Brazil</th>\n",
       "      <td>34</td>\n",
       "    </tr>\n",
       "    <tr>\n",
       "      <th>France</th>\n",
       "      <td>9</td>\n",
       "    </tr>\n",
       "    <tr>\n",
       "      <th>International</th>\n",
       "      <td>9</td>\n",
       "    </tr>\n",
       "    <tr>\n",
       "      <th>Thailand</th>\n",
       "      <td>17</td>\n",
       "    </tr>\n",
       "  </tbody>\n",
       "</table>\n",
       "</div>"
      ],
      "text/plain": [
       "               count\n",
       "country             \n",
       "Brazil            34\n",
       "France             9\n",
       "International      9\n",
       "Thailand          17"
      ]
     },
     "execution_count": 6,
     "metadata": {},
     "output_type": "execute_result"
    }
   ],
   "source": [
    "# highlight those with more than 10 delegates\n",
    "# countries in the country list \n",
    "country_summary = main_groups.groupby(\"country\").sum()[[\"count\"]]\n",
    "country_summary = country_summary[country_summary[\"count\"]>=5]\n",
    "country_summary"
   ]
  },
  {
   "cell_type": "code",
   "execution_count": 7,
   "id": "7a4607e1-c9e4-44bd-9a21-e4e56497ccc9",
   "metadata": {
    "tags": []
   },
   "outputs": [
    {
     "data": {
      "text/html": [
       "<div>\n",
       "<style scoped>\n",
       "    .dataframe tbody tr th:only-of-type {\n",
       "        vertical-align: middle;\n",
       "    }\n",
       "\n",
       "    .dataframe tbody tr th {\n",
       "        vertical-align: top;\n",
       "    }\n",
       "\n",
       "    .dataframe thead th {\n",
       "        text-align: right;\n",
       "    }\n",
       "</style>\n",
       "<table border=\"1\" class=\"dataframe\">\n",
       "  <thead>\n",
       "    <tr style=\"text-align: right;\">\n",
       "      <th></th>\n",
       "      <th>count</th>\n",
       "    </tr>\n",
       "    <tr>\n",
       "      <th>new_organization</th>\n",
       "      <th></th>\n",
       "    </tr>\n",
       "  </thead>\n",
       "  <tbody>\n",
       "    <tr>\n",
       "      <th>BRF</th>\n",
       "      <td>6</td>\n",
       "    </tr>\n",
       "    <tr>\n",
       "      <th>Charoen Pokphand</th>\n",
       "      <td>17</td>\n",
       "    </tr>\n",
       "    <tr>\n",
       "      <th>Danone</th>\n",
       "      <td>9</td>\n",
       "    </tr>\n",
       "    <tr>\n",
       "      <th>JBS</th>\n",
       "      <td>11</td>\n",
       "    </tr>\n",
       "    <tr>\n",
       "      <th>Minerva Foods</th>\n",
       "      <td>18</td>\n",
       "    </tr>\n",
       "    <tr>\n",
       "      <th>Nestle</th>\n",
       "      <td>16</td>\n",
       "    </tr>\n",
       "  </tbody>\n",
       "</table>\n",
       "</div>"
      ],
      "text/plain": [
       "                  count\n",
       "new_organization       \n",
       "BRF                   6\n",
       "Charoen Pokphand     17\n",
       "Danone                9\n",
       "JBS                  11\n",
       "Minerva Foods        18\n",
       "Nestle               16"
      ]
     },
     "execution_count": 7,
     "metadata": {},
     "output_type": "execute_result"
    }
   ],
   "source": [
    "# companies \n",
    "company_summary = main_groups.groupby(\"new_organization\").sum()[[\"count\"]]\n",
    "company_summary = company_summary[company_summary[\"count\"]>=5]\n",
    "company_summary"
   ]
  },
  {
   "cell_type": "code",
   "execution_count": 8,
   "id": "09fd0e94-25e5-407d-94ae-b450d0f64128",
   "metadata": {
    "tags": []
   },
   "outputs": [
    {
     "data": {
      "text/html": [
       "<div>\n",
       "<style scoped>\n",
       "    .dataframe tbody tr th:only-of-type {\n",
       "        vertical-align: middle;\n",
       "    }\n",
       "\n",
       "    .dataframe tbody tr th {\n",
       "        vertical-align: top;\n",
       "    }\n",
       "\n",
       "    .dataframe thead th {\n",
       "        text-align: right;\n",
       "    }\n",
       "</style>\n",
       "<table border=\"1\" class=\"dataframe\">\n",
       "  <thead>\n",
       "    <tr style=\"text-align: right;\">\n",
       "      <th></th>\n",
       "      <th>count</th>\n",
       "    </tr>\n",
       "    <tr>\n",
       "      <th>nominator_rename</th>\n",
       "      <th></th>\n",
       "    </tr>\n",
       "  </thead>\n",
       "  <tbody>\n",
       "    <tr>\n",
       "      <th>Brazil</th>\n",
       "      <td>33</td>\n",
       "    </tr>\n",
       "    <tr>\n",
       "      <th>International Chamber of Commerce</th>\n",
       "      <td>5</td>\n",
       "    </tr>\n",
       "    <tr>\n",
       "      <th>League of Arab States</th>\n",
       "      <td>8</td>\n",
       "    </tr>\n",
       "    <tr>\n",
       "      <th>Thailand</th>\n",
       "      <td>17</td>\n",
       "    </tr>\n",
       "  </tbody>\n",
       "</table>\n",
       "</div>"
      ],
      "text/plain": [
       "                                   count\n",
       "nominator_rename                        \n",
       "Brazil                                33\n",
       "International Chamber of Commerce      5\n",
       "League of Arab States                  8\n",
       "Thailand                              17"
      ]
     },
     "execution_count": 8,
     "metadata": {},
     "output_type": "execute_result"
    }
   ],
   "source": [
    "party_nominator = main_groups[main_groups[\"nominator_type\"].isin([\"Parties\",\"Party overflow\"])]\n",
    "party_nominator_list = list(party_nominator[\"nominator_rename\"].dropna().unique())\n",
    "party_nominator_nonannex_list = list(party_nominator.query(\"country_type=='Non-Annex'\")[\"nominator_rename\"].dropna().unique())\n",
    "party_nominator_summary = main_groups.groupby(\"nominator_rename\").sum()[[\"count\"]]\n",
    "party_nominator_summary = party_nominator_summary[party_nominator_summary[\"count\"] >= 5]\n",
    "party_nominator_summary"
   ]
  },
  {
   "cell_type": "code",
   "execution_count": 26,
   "id": "8bdf8a42-e040-49d1-8f79-fc65afbf1d1e",
   "metadata": {
    "tags": []
   },
   "outputs": [
    {
     "data": {
      "text/html": [
       "<div>\n",
       "<style scoped>\n",
       "    .dataframe tbody tr th:only-of-type {\n",
       "        vertical-align: middle;\n",
       "    }\n",
       "\n",
       "    .dataframe tbody tr th {\n",
       "        vertical-align: top;\n",
       "    }\n",
       "\n",
       "    .dataframe thead th {\n",
       "        text-align: right;\n",
       "    }\n",
       "</style>\n",
       "<table border=\"1\" class=\"dataframe\">\n",
       "  <thead>\n",
       "    <tr style=\"text-align: right;\">\n",
       "      <th></th>\n",
       "      <th>code</th>\n",
       "      <th>name</th>\n",
       "      <th>color</th>\n",
       "      <th>name_show</th>\n",
       "    </tr>\n",
       "  </thead>\n",
       "  <tbody>\n",
       "    <tr>\n",
       "      <th>0</th>\n",
       "      <td>0</td>\n",
       "      <td>Non-Annex</td>\n",
       "      <td>purple</td>\n",
       "      <td>Non-Annex</td>\n",
       "    </tr>\n",
       "    <tr>\n",
       "      <th>1</th>\n",
       "      <td>1</td>\n",
       "      <td>Annex II</td>\n",
       "      <td>palevioletred</td>\n",
       "      <td>Annex II</td>\n",
       "    </tr>\n",
       "    <tr>\n",
       "      <th>2</th>\n",
       "      <td>2</td>\n",
       "      <td>Non-Country</td>\n",
       "      <td>gray</td>\n",
       "      <td>Non-Country</td>\n",
       "    </tr>\n",
       "    <tr>\n",
       "      <th>3</th>\n",
       "      <td>3</td>\n",
       "      <td>Thailand</td>\n",
       "      <td>purple</td>\n",
       "      <td>Thailand</td>\n",
       "    </tr>\n",
       "    <tr>\n",
       "      <th>4</th>\n",
       "      <td>4</td>\n",
       "      <td>Australia</td>\n",
       "      <td>palevioletred</td>\n",
       "      <td></td>\n",
       "    </tr>\n",
       "    <tr>\n",
       "      <th>5</th>\n",
       "      <td>5</td>\n",
       "      <td>Brazil</td>\n",
       "      <td>purple</td>\n",
       "      <td>Brazil</td>\n",
       "    </tr>\n",
       "    <tr>\n",
       "      <th>6</th>\n",
       "      <td>6</td>\n",
       "      <td>China</td>\n",
       "      <td>purple</td>\n",
       "      <td></td>\n",
       "    </tr>\n",
       "    <tr>\n",
       "      <th>7</th>\n",
       "      <td>7</td>\n",
       "      <td>Denmark</td>\n",
       "      <td>palevioletred</td>\n",
       "      <td></td>\n",
       "    </tr>\n",
       "    <tr>\n",
       "      <th>8</th>\n",
       "      <td>8</td>\n",
       "      <td>France</td>\n",
       "      <td>palevioletred</td>\n",
       "      <td>France</td>\n",
       "    </tr>\n",
       "    <tr>\n",
       "      <th>9</th>\n",
       "      <td>9</td>\n",
       "      <td>New Zealand</td>\n",
       "      <td>palevioletred</td>\n",
       "      <td></td>\n",
       "    </tr>\n",
       "    <tr>\n",
       "      <th>10</th>\n",
       "      <td>10</td>\n",
       "      <td>International</td>\n",
       "      <td>gray</td>\n",
       "      <td>International</td>\n",
       "    </tr>\n",
       "    <tr>\n",
       "      <th>11</th>\n",
       "      <td>11</td>\n",
       "      <td>United States of America</td>\n",
       "      <td>palevioletred</td>\n",
       "      <td></td>\n",
       "    </tr>\n",
       "    <tr>\n",
       "      <th>12</th>\n",
       "      <td>12</td>\n",
       "      <td>Switzerland</td>\n",
       "      <td>palevioletred</td>\n",
       "      <td></td>\n",
       "    </tr>\n",
       "    <tr>\n",
       "      <th>13</th>\n",
       "      <td>13</td>\n",
       "      <td>United Arab Emirates</td>\n",
       "      <td>purple</td>\n",
       "      <td></td>\n",
       "    </tr>\n",
       "    <tr>\n",
       "      <th>14</th>\n",
       "      <td>14</td>\n",
       "      <td>Parties</td>\n",
       "      <td>gray</td>\n",
       "      <td>Parties</td>\n",
       "    </tr>\n",
       "    <tr>\n",
       "      <th>15</th>\n",
       "      <td>15</td>\n",
       "      <td>Party overflow</td>\n",
       "      <td>gray</td>\n",
       "      <td>Party overflow</td>\n",
       "    </tr>\n",
       "    <tr>\n",
       "      <th>16</th>\n",
       "      <td>16</td>\n",
       "      <td>Intergovernmental Organizations</td>\n",
       "      <td>gray</td>\n",
       "      <td>IGO</td>\n",
       "    </tr>\n",
       "    <tr>\n",
       "      <th>17</th>\n",
       "      <td>17</td>\n",
       "      <td>Constituency - Business and Industry</td>\n",
       "      <td>navy</td>\n",
       "      <td>NGO Business and Industry</td>\n",
       "    </tr>\n",
       "    <tr>\n",
       "      <th>18</th>\n",
       "      <td>18</td>\n",
       "      <td>Constituency - Environmental</td>\n",
       "      <td>dodgerblue</td>\n",
       "      <td>NGO Environmental</td>\n",
       "    </tr>\n",
       "    <tr>\n",
       "      <th>19</th>\n",
       "      <td>19</td>\n",
       "      <td>United Nations Organization</td>\n",
       "      <td>gray</td>\n",
       "      <td>United Nations</td>\n",
       "    </tr>\n",
       "    <tr>\n",
       "      <th>20</th>\n",
       "      <td>20</td>\n",
       "      <td>Host</td>\n",
       "      <td>gray</td>\n",
       "      <td>Host</td>\n",
       "    </tr>\n",
       "    <tr>\n",
       "      <th>21</th>\n",
       "      <td>21</td>\n",
       "      <td>Thailand</td>\n",
       "      <td>purple</td>\n",
       "      <td>Thailand</td>\n",
       "    </tr>\n",
       "    <tr>\n",
       "      <th>22</th>\n",
       "      <td>22</td>\n",
       "      <td>Australia</td>\n",
       "      <td>palevioletred</td>\n",
       "      <td></td>\n",
       "    </tr>\n",
       "    <tr>\n",
       "      <th>23</th>\n",
       "      <td>23</td>\n",
       "      <td>Brazil</td>\n",
       "      <td>purple</td>\n",
       "      <td>Brazil</td>\n",
       "    </tr>\n",
       "    <tr>\n",
       "      <th>24</th>\n",
       "      <td>24</td>\n",
       "      <td>China</td>\n",
       "      <td>purple</td>\n",
       "      <td></td>\n",
       "    </tr>\n",
       "    <tr>\n",
       "      <th>25</th>\n",
       "      <td>25</td>\n",
       "      <td>Denmark</td>\n",
       "      <td>palevioletred</td>\n",
       "      <td></td>\n",
       "    </tr>\n",
       "    <tr>\n",
       "      <th>26</th>\n",
       "      <td>26</td>\n",
       "      <td>France</td>\n",
       "      <td>palevioletred</td>\n",
       "      <td></td>\n",
       "    </tr>\n",
       "    <tr>\n",
       "      <th>27</th>\n",
       "      <td>27</td>\n",
       "      <td>New Zealand</td>\n",
       "      <td>palevioletred</td>\n",
       "      <td></td>\n",
       "    </tr>\n",
       "    <tr>\n",
       "      <th>28</th>\n",
       "      <td>28</td>\n",
       "      <td>League of Arab States</td>\n",
       "      <td>gray</td>\n",
       "      <td>LAS</td>\n",
       "    </tr>\n",
       "    <tr>\n",
       "      <th>29</th>\n",
       "      <td>29</td>\n",
       "      <td>Animal Agriculture Alliance *</td>\n",
       "      <td>navy</td>\n",
       "      <td></td>\n",
       "    </tr>\n",
       "    <tr>\n",
       "      <th>30</th>\n",
       "      <td>30</td>\n",
       "      <td>Global Dairy Platform, Inc</td>\n",
       "      <td>navy</td>\n",
       "      <td></td>\n",
       "    </tr>\n",
       "    <tr>\n",
       "      <th>31</th>\n",
       "      <td>31</td>\n",
       "      <td>Institute for Agricultural and Forest Manageme...</td>\n",
       "      <td>dodgerblue</td>\n",
       "      <td></td>\n",
       "    </tr>\n",
       "    <tr>\n",
       "      <th>32</th>\n",
       "      <td>32</td>\n",
       "      <td>International Chamber of Commerce</td>\n",
       "      <td>navy</td>\n",
       "      <td>ICC</td>\n",
       "    </tr>\n",
       "    <tr>\n",
       "      <th>33</th>\n",
       "      <td>33</td>\n",
       "      <td>Natural Capitalism Solutions, Inc.</td>\n",
       "      <td>dodgerblue</td>\n",
       "      <td></td>\n",
       "    </tr>\n",
       "    <tr>\n",
       "      <th>34</th>\n",
       "      <td>34</td>\n",
       "      <td>North American Meat Institute *</td>\n",
       "      <td>navy</td>\n",
       "      <td></td>\n",
       "    </tr>\n",
       "    <tr>\n",
       "      <th>35</th>\n",
       "      <td>35</td>\n",
       "      <td>Unis-Terre</td>\n",
       "      <td>dodgerblue</td>\n",
       "      <td></td>\n",
       "    </tr>\n",
       "    <tr>\n",
       "      <th>36</th>\n",
       "      <td>36</td>\n",
       "      <td>World Business Council for Sustainable Develop...</td>\n",
       "      <td>navy</td>\n",
       "      <td></td>\n",
       "    </tr>\n",
       "    <tr>\n",
       "      <th>37</th>\n",
       "      <td>37</td>\n",
       "      <td>Global Climate Action</td>\n",
       "      <td>gray</td>\n",
       "      <td></td>\n",
       "    </tr>\n",
       "    <tr>\n",
       "      <th>38</th>\n",
       "      <td>38</td>\n",
       "      <td>Host country guests</td>\n",
       "      <td>gray</td>\n",
       "      <td></td>\n",
       "    </tr>\n",
       "    <tr>\n",
       "      <th>39</th>\n",
       "      <td>39</td>\n",
       "      <td>Charoen Pokphand</td>\n",
       "      <td>gray</td>\n",
       "      <td>Charoen Pokphand</td>\n",
       "    </tr>\n",
       "    <tr>\n",
       "      <th>40</th>\n",
       "      <td>40</td>\n",
       "      <td>Minerva Foods</td>\n",
       "      <td>gray</td>\n",
       "      <td>Minerva Foods</td>\n",
       "    </tr>\n",
       "    <tr>\n",
       "      <th>41</th>\n",
       "      <td>41</td>\n",
       "      <td>JBS</td>\n",
       "      <td>gray</td>\n",
       "      <td>JBS</td>\n",
       "    </tr>\n",
       "    <tr>\n",
       "      <th>42</th>\n",
       "      <td>42</td>\n",
       "      <td>BRF</td>\n",
       "      <td>gray</td>\n",
       "      <td>BRF</td>\n",
       "    </tr>\n",
       "    <tr>\n",
       "      <th>43</th>\n",
       "      <td>43</td>\n",
       "      <td>Marfrig</td>\n",
       "      <td>gray</td>\n",
       "      <td></td>\n",
       "    </tr>\n",
       "    <tr>\n",
       "      <th>44</th>\n",
       "      <td>44</td>\n",
       "      <td>Nestle</td>\n",
       "      <td>gray</td>\n",
       "      <td>Nestle</td>\n",
       "    </tr>\n",
       "    <tr>\n",
       "      <th>45</th>\n",
       "      <td>45</td>\n",
       "      <td>Mengniu Dairy</td>\n",
       "      <td>gray</td>\n",
       "      <td></td>\n",
       "    </tr>\n",
       "    <tr>\n",
       "      <th>46</th>\n",
       "      <td>46</td>\n",
       "      <td>Arla</td>\n",
       "      <td>gray</td>\n",
       "      <td></td>\n",
       "    </tr>\n",
       "    <tr>\n",
       "      <th>47</th>\n",
       "      <td>47</td>\n",
       "      <td>Danone</td>\n",
       "      <td>gray</td>\n",
       "      <td>Danone</td>\n",
       "    </tr>\n",
       "    <tr>\n",
       "      <th>48</th>\n",
       "      <td>48</td>\n",
       "      <td>Fonterra</td>\n",
       "      <td>gray</td>\n",
       "      <td></td>\n",
       "    </tr>\n",
       "  </tbody>\n",
       "</table>\n",
       "</div>"
      ],
      "text/plain": [
       "    code                                               name          color  \\\n",
       "0      0                                          Non-Annex         purple   \n",
       "1      1                                           Annex II  palevioletred   \n",
       "2      2                                        Non-Country           gray   \n",
       "3      3                                           Thailand         purple   \n",
       "4      4                                          Australia  palevioletred   \n",
       "5      5                                             Brazil         purple   \n",
       "6      6                                              China         purple   \n",
       "7      7                                            Denmark  palevioletred   \n",
       "8      8                                             France  palevioletred   \n",
       "9      9                                        New Zealand  palevioletred   \n",
       "10    10                                      International           gray   \n",
       "11    11                           United States of America  palevioletred   \n",
       "12    12                                        Switzerland  palevioletred   \n",
       "13    13                               United Arab Emirates         purple   \n",
       "14    14                                            Parties           gray   \n",
       "15    15                                     Party overflow           gray   \n",
       "16    16                    Intergovernmental Organizations           gray   \n",
       "17    17               Constituency - Business and Industry           navy   \n",
       "18    18                       Constituency - Environmental     dodgerblue   \n",
       "19    19                        United Nations Organization           gray   \n",
       "20    20                                               Host           gray   \n",
       "21    21                                         Thailand           purple   \n",
       "22    22                                        Australia    palevioletred   \n",
       "23    23                                           Brazil           purple   \n",
       "24    24                                            China           purple   \n",
       "25    25                                          Denmark    palevioletred   \n",
       "26    26                                           France    palevioletred   \n",
       "27    27                                      New Zealand    palevioletred   \n",
       "28    28                              League of Arab States           gray   \n",
       "29    29                      Animal Agriculture Alliance *           navy   \n",
       "30    30                         Global Dairy Platform, Inc           navy   \n",
       "31    31  Institute for Agricultural and Forest Manageme...     dodgerblue   \n",
       "32    32                  International Chamber of Commerce           navy   \n",
       "33    33                 Natural Capitalism Solutions, Inc.     dodgerblue   \n",
       "34    34                    North American Meat Institute *           navy   \n",
       "35    35                                         Unis-Terre     dodgerblue   \n",
       "36    36  World Business Council for Sustainable Develop...           navy   \n",
       "37    37                              Global Climate Action           gray   \n",
       "38    38                                Host country guests           gray   \n",
       "39    39                                   Charoen Pokphand           gray   \n",
       "40    40                                      Minerva Foods           gray   \n",
       "41    41                                                JBS           gray   \n",
       "42    42                                                BRF           gray   \n",
       "43    43                                            Marfrig           gray   \n",
       "44    44                                             Nestle           gray   \n",
       "45    45                                      Mengniu Dairy           gray   \n",
       "46    46                                               Arla           gray   \n",
       "47    47                                             Danone           gray   \n",
       "48    48                                           Fonterra           gray   \n",
       "\n",
       "                    name_show  \n",
       "0                   Non-Annex  \n",
       "1                    Annex II  \n",
       "2                 Non-Country  \n",
       "3                    Thailand  \n",
       "4                              \n",
       "5                      Brazil  \n",
       "6                              \n",
       "7                              \n",
       "8                      France  \n",
       "9                              \n",
       "10              International  \n",
       "11                             \n",
       "12                             \n",
       "13                             \n",
       "14                    Parties  \n",
       "15             Party overflow  \n",
       "16                        IGO  \n",
       "17  NGO Business and Industry  \n",
       "18          NGO Environmental  \n",
       "19             United Nations  \n",
       "20                       Host  \n",
       "21                 Thailand    \n",
       "22                             \n",
       "23                   Brazil    \n",
       "24                             \n",
       "25                             \n",
       "26                             \n",
       "27                             \n",
       "28                        LAS  \n",
       "29                             \n",
       "30                             \n",
       "31                             \n",
       "32                        ICC  \n",
       "33                             \n",
       "34                             \n",
       "35                             \n",
       "36                             \n",
       "37                             \n",
       "38                             \n",
       "39           Charoen Pokphand  \n",
       "40              Minerva Foods  \n",
       "41                        JBS  \n",
       "42                        BRF  \n",
       "43                             \n",
       "44                     Nestle  \n",
       "45                             \n",
       "46                             \n",
       "47                     Danone  \n",
       "48                             "
      ]
     },
     "execution_count": 26,
     "metadata": {},
     "output_type": "execute_result"
    }
   ],
   "source": [
    "# NODES\n",
    "country_type_list = list(main_groups[\"country_type\"].unique())\n",
    "country_list = list(main_groups[\"country\"].unique())\n",
    "country_list_noInt = [item for item in country_list if item !=\"International\" ]\n",
    "org_type_list = list(main_groups[\"nominator_type\"].dropna().unique())\n",
    "nominator_list = list(main_groups[\"nominator_rename\"].dropna().unique())\n",
    "ff_company_list = list(main_groups[\"new_organization\"].unique())\n",
    "ngo_list = list(ngo_names[\"Constituency\"].unique())\n",
    "\n",
    "index_db = pd.DataFrame(data={\"name\":country_type_list+country_list+org_type_list+nominator_list+ff_company_list})\n",
    "index_db = index_db.reset_index().rename(columns={\"index\":\"code\"})\n",
    "\n",
    "for i in index_db.index:\n",
    "    # colors\n",
    "    if index_db.loc[i,\"name\"] in country_type_list[:-1]+country_list_noInt+party_nominator_list:\n",
    "        index_db.loc[i,\"color\"] = \"palevioletred\"\n",
    "        if index_db.loc[i,\"name\"] in list([\"Non-Annex\"])+list(main_groups[main_groups[\"country_type\"]==\"Non-Annex\"][\"country\"].unique())+party_nominator_nonannex_list:\n",
    "            index_db.loc[i,\"color\"] = \"purple\"\n",
    "    elif index_db.loc[i,\"name\"] in ngo_list+list(main_groups[main_groups[\"nominator_type\"].isin(ngo_list)][\"nominator_rename\"].unique()):\n",
    "        index_db.loc[i,\"color\"] = \"dodgerblue\"\n",
    "        if index_db.loc[i,\"name\"] in list([\"Constituency - Business and Industry\"])+list(main_groups[main_groups[\"nominator_type\"]==\"Constituency - Business and Industry\"][\"nominator\"].unique()):\n",
    "            index_db.loc[i,\"color\"] = \"navy\"\n",
    "    else:\n",
    "        index_db.loc[i,\"color\"] = \"gray\"\n",
    "        \n",
    "    # names to show\n",
    "    if index_db.loc[i,\"name\"] in country_type_list+org_type_list+list(company_summary.index)+list(country_summary.index)+list(party_nominator_summary.index):\n",
    "        index_db.loc[i,\"name_show\"] = index_db.loc[i,\"name\"] \n",
    "\n",
    "index_db[\"name_show\"] = index_db[\"name_show\"].fillna(\"\")\n",
    "index_db[\"name_show\"] = index_db[\"name_show\"].str.replace(\"Constituency -\",\"NGO\")\n",
    "index_db[\"name_show\"] = index_db[\"name_show\"].str.replace(\"International Chamber of Commerce\",\"ICC\")\n",
    "index_db[\"name_show\"] = index_db[\"name_show\"].str.replace(\"Intergovernmental Organizations\",\"IGO\")\n",
    "index_db[\"name_show\"] = index_db[\"name_show\"].str.replace(\"United Nations Organization\",\"United Nations\")\n",
    "index_db[\"name_show\"] = index_db[\"name_show\"].str.replace(\"League of Arab States\",\"LAS\")\n",
    "index_db.set_index(\"code\").to_excel(\"nodes_food.xlsx\")\n",
    "index_db"
   ]
  },
  {
   "cell_type": "code",
   "execution_count": 27,
   "id": "1b8d33a3-8c50-414f-9e6a-b45f7a78409a",
   "metadata": {
    "tags": []
   },
   "outputs": [],
   "source": [
    "def calc_link(db,index_db,left_name,right_name,plot_type):\n",
    "    result_link = db.groupby([left_name,right_name]).sum()[[\"count\"]].reset_index()\n",
    "    if plot_type==0:\n",
    "        result_link = pd.merge(result_link,index_db[[\"name\",\"code\",\"color\"]],left_on=left_name,right_on=\"name\")\n",
    "    elif plot_type==1:\n",
    "        result_link = pd.merge(result_link,index_db[[\"name\",\"code\"]],left_on=left_name,right_on=\"name\")\n",
    "    result_link = result_link.rename(columns={\"code\":\"source_index\"})\n",
    "    if plot_type==0:\n",
    "        result_link = pd.merge(result_link,index_db[[\"name\",\"code\"]],left_on=right_name,right_on=\"name\")\n",
    "    elif plot_type==1:\n",
    "        result_link = pd.merge(result_link,index_db[[\"name\",\"code\",\"color\"]],left_on=right_name,right_on=\"name\")\n",
    "    result_link = result_link.rename(columns={\"code\":\"target_index\"})\n",
    "    result_link = result_link[[\"source_index\",\"target_index\",\"count\",\"color\"]]\n",
    "    result_link = result_link.replace(\"palevioletred\",\"#fbf1f4\").replace(\"purple\",\"#f2e6f2\").replace(\"navy\",\"#e6e6f2\").replace(\"dodgerblue\",\"#e9f4ff\").replace(\"gray\",\"#f2f2f2\")\n",
    "    return result_link"
   ]
  },
  {
   "cell_type": "code",
   "execution_count": 28,
   "id": "d2254995-3ec5-4dbe-806d-11b6c9859352",
   "metadata": {
    "tags": []
   },
   "outputs": [],
   "source": [
    "# LINKS\n",
    "# country type to country\n",
    "cntry_type = calc_link(main_groups,index_db,\"country_type\",\"country\",0)\n",
    "# country to nominator type\n",
    "cntry2nomtype = calc_link(main_groups,index_db,\"country\",\"nominator_type\",0)\n",
    "# nominator type to nominator\n",
    "nomtype2nom = calc_link(main_groups,index_db,\"nominator_type\",\"nominator_rename\",1)\n",
    "# nominator to company\n",
    "nom2comp = calc_link(main_groups,index_db,\"nominator_rename\",\"new_organization\",0)\n",
    "combined_list = pd.concat([cntry_type,cntry2nomtype,nomtype2nom,nom2comp])\n",
    "combined_list.set_index(\"source_index\").to_excel(\"links_food.xlsx\")"
   ]
  },
  {
   "cell_type": "code",
   "execution_count": 29,
   "id": "6dc25b21-a775-42f3-afe5-69dc1046ac06",
   "metadata": {
    "tags": []
   },
   "outputs": [
    {
     "data": {
      "application/vnd.plotly.v1+json": {
       "config": {
        "plotlyServerURL": "https://plot.ly"
       },
       "data": [
        {
         "link": {
          "color": [
           "#fbf1f4",
           "#fbf1f4",
           "#fbf1f4",
           "#fbf1f4",
           "#fbf1f4",
           "#fbf1f4",
           "#f2e6f2",
           "#f2e6f2",
           "#f2e6f2",
           "#f2e6f2",
           "#f2f2f2",
           "#fbf1f4",
           "#f2e6f2",
           "#f2e6f2",
           "#fbf1f4",
           "#fbf1f4",
           "#fbf1f4",
           "#f2e6f2",
           "#f2e6f2",
           "#fbf1f4",
           "#fbf1f4",
           "#fbf1f4",
           "#fbf1f4",
           "#fbf1f4",
           "#f2f2f2",
           "#f2f2f2",
           "#f2e6f2",
           "#f2e6f2",
           "#e6e6f2",
           "#e6e6f2",
           "#e6e6f2",
           "#e6e6f2",
           "#e6e6f2",
           "#e9f4ff",
           "#e9f4ff",
           "#e9f4ff",
           "#f2f2f2",
           "#f2f2f2",
           "#f2e6f2",
           "#f2e6f2",
           "#fbf1f4",
           "#f2e6f2",
           "#f2e6f2",
           "#fbf1f4",
           "#fbf1f4",
           "#fbf1f4",
           "#f2f2f2",
           "#e6e6f2",
           "#f2e6f2",
           "#e6e6f2",
           "#fbf1f4",
           "#f2e6f2",
           "#f2f2f2",
           "#e9f4ff",
           "#f2e6f2",
           "#f2e6f2",
           "#f2e6f2",
           "#f2f2f2",
           "#e6e6f2",
           "#f2f2f2",
           "#e9f4ff",
           "#e6e6f2",
           "#f2e6f2",
           "#fbf1f4",
           "#e6e6f2",
           "#fbf1f4",
           "#f2f2f2",
           "#e6e6f2",
           "#e9f4ff",
           "#e6e6f2",
           "#fbf1f4",
           "#f2e6f2"
          ],
          "source": [
           1,
           1,
           1,
           1,
           1,
           1,
           0,
           0,
           0,
           0,
           2,
           4,
           5,
           6,
           7,
           8,
           9,
           3,
           5,
           8,
           11,
           8,
           12,
           11,
           10,
           10,
           3,
           13,
           17,
           17,
           17,
           17,
           17,
           18,
           18,
           18,
           20,
           16,
           14,
           15,
           15,
           15,
           15,
           15,
           15,
           15,
           19,
           29,
           23,
           34,
           22,
           23,
           38,
           31,
           23,
           23,
           23,
           37,
           32,
           28,
           35,
           36,
           24,
           25,
           30,
           26,
           38,
           32,
           33,
           36,
           27,
           21
          ],
          "target": [
           4,
           7,
           8,
           9,
           12,
           11,
           5,
           6,
           3,
           13,
           10,
           15,
           15,
           15,
           15,
           15,
           15,
           15,
           18,
           18,
           18,
           17,
           17,
           17,
           16,
           19,
           14,
           20,
           29,
           30,
           32,
           34,
           36,
           31,
           33,
           35,
           38,
           28,
           21,
           21,
           22,
           23,
           24,
           25,
           26,
           27,
           37,
           41,
           41,
           41,
           40,
           40,
           40,
           40,
           42,
           43,
           44,
           44,
           44,
           44,
           44,
           44,
           45,
           46,
           46,
           47,
           47,
           47,
           47,
           47,
           48,
           39
          ],
          "value": [
           1,
           2,
           9,
           3,
           4,
           4,
           34,
           3,
           17,
           2,
           9,
           1,
           33,
           3,
           2,
           2,
           3,
           16,
           1,
           2,
           1,
           5,
           4,
           3,
           8,
           1,
           1,
           2,
           1,
           1,
           5,
           1,
           4,
           1,
           1,
           2,
           2,
           8,
           1,
           16,
           1,
           33,
           3,
           2,
           2,
           3,
           1,
           1,
           9,
           1,
           1,
           15,
           1,
           1,
           6,
           2,
           1,
           1,
           2,
           8,
           2,
           2,
           3,
           2,
           1,
           2,
           1,
           3,
           1,
           2,
           3,
           17
          ]
         },
         "node": {
          "color": [
           "purple",
           "palevioletred",
           "gray",
           "purple",
           "palevioletred",
           "purple",
           "purple",
           "palevioletred",
           "palevioletred",
           "palevioletred",
           "gray",
           "palevioletred",
           "palevioletred",
           "purple",
           "gray",
           "gray",
           "gray",
           "navy",
           "dodgerblue",
           "gray",
           "gray",
           "purple",
           "palevioletred",
           "purple",
           "purple",
           "palevioletred",
           "palevioletred",
           "palevioletred",
           "gray",
           "navy",
           "navy",
           "dodgerblue",
           "navy",
           "dodgerblue",
           "navy",
           "dodgerblue",
           "navy",
           "gray",
           "gray",
           "gray",
           "gray",
           "gray",
           "gray",
           "gray",
           "gray",
           "gray",
           "gray",
           "gray",
           "gray"
          ],
          "label": [
           "Non-Annex",
           "Annex II",
           "Non-Country",
           "Thailand",
           "",
           "Brazil",
           "",
           "",
           "France",
           "",
           "International",
           "",
           "",
           "",
           "Parties",
           "Party overflow",
           "IGO",
           "NGO Business and Industry",
           "NGO Environmental",
           "United Nations",
           "Host",
           "Thailand  ",
           "",
           "Brazil  ",
           "",
           "",
           "",
           "",
           "LAS",
           "",
           "",
           "",
           "ICC",
           "",
           "",
           "",
           "",
           "",
           "",
           "Charoen Pokphand",
           "Minerva Foods",
           "JBS",
           "BRF",
           "",
           "Nestle",
           "",
           "",
           "Danone",
           ""
          ],
          "line": {
           "color": "black",
           "width": 0
          },
          "pad": 5,
          "thickness": 30
         },
         "type": "sankey"
        }
       ],
       "layout": {
        "font": {
         "color": "black",
         "size": 12
        },
        "height": 400,
        "template": {
         "data": {
          "bar": [
           {
            "error_x": {
             "color": "#2a3f5f"
            },
            "error_y": {
             "color": "#2a3f5f"
            },
            "marker": {
             "line": {
              "color": "#E5ECF6",
              "width": 0.5
             },
             "pattern": {
              "fillmode": "overlay",
              "size": 10,
              "solidity": 0.2
             }
            },
            "type": "bar"
           }
          ],
          "barpolar": [
           {
            "marker": {
             "line": {
              "color": "#E5ECF6",
              "width": 0.5
             },
             "pattern": {
              "fillmode": "overlay",
              "size": 10,
              "solidity": 0.2
             }
            },
            "type": "barpolar"
           }
          ],
          "carpet": [
           {
            "aaxis": {
             "endlinecolor": "#2a3f5f",
             "gridcolor": "white",
             "linecolor": "white",
             "minorgridcolor": "white",
             "startlinecolor": "#2a3f5f"
            },
            "baxis": {
             "endlinecolor": "#2a3f5f",
             "gridcolor": "white",
             "linecolor": "white",
             "minorgridcolor": "white",
             "startlinecolor": "#2a3f5f"
            },
            "type": "carpet"
           }
          ],
          "choropleth": [
           {
            "colorbar": {
             "outlinewidth": 0,
             "ticks": ""
            },
            "type": "choropleth"
           }
          ],
          "contour": [
           {
            "colorbar": {
             "outlinewidth": 0,
             "ticks": ""
            },
            "colorscale": [
             [
              0,
              "#0d0887"
             ],
             [
              0.1111111111111111,
              "#46039f"
             ],
             [
              0.2222222222222222,
              "#7201a8"
             ],
             [
              0.3333333333333333,
              "#9c179e"
             ],
             [
              0.4444444444444444,
              "#bd3786"
             ],
             [
              0.5555555555555556,
              "#d8576b"
             ],
             [
              0.6666666666666666,
              "#ed7953"
             ],
             [
              0.7777777777777778,
              "#fb9f3a"
             ],
             [
              0.8888888888888888,
              "#fdca26"
             ],
             [
              1,
              "#f0f921"
             ]
            ],
            "type": "contour"
           }
          ],
          "contourcarpet": [
           {
            "colorbar": {
             "outlinewidth": 0,
             "ticks": ""
            },
            "type": "contourcarpet"
           }
          ],
          "heatmap": [
           {
            "colorbar": {
             "outlinewidth": 0,
             "ticks": ""
            },
            "colorscale": [
             [
              0,
              "#0d0887"
             ],
             [
              0.1111111111111111,
              "#46039f"
             ],
             [
              0.2222222222222222,
              "#7201a8"
             ],
             [
              0.3333333333333333,
              "#9c179e"
             ],
             [
              0.4444444444444444,
              "#bd3786"
             ],
             [
              0.5555555555555556,
              "#d8576b"
             ],
             [
              0.6666666666666666,
              "#ed7953"
             ],
             [
              0.7777777777777778,
              "#fb9f3a"
             ],
             [
              0.8888888888888888,
              "#fdca26"
             ],
             [
              1,
              "#f0f921"
             ]
            ],
            "type": "heatmap"
           }
          ],
          "heatmapgl": [
           {
            "colorbar": {
             "outlinewidth": 0,
             "ticks": ""
            },
            "colorscale": [
             [
              0,
              "#0d0887"
             ],
             [
              0.1111111111111111,
              "#46039f"
             ],
             [
              0.2222222222222222,
              "#7201a8"
             ],
             [
              0.3333333333333333,
              "#9c179e"
             ],
             [
              0.4444444444444444,
              "#bd3786"
             ],
             [
              0.5555555555555556,
              "#d8576b"
             ],
             [
              0.6666666666666666,
              "#ed7953"
             ],
             [
              0.7777777777777778,
              "#fb9f3a"
             ],
             [
              0.8888888888888888,
              "#fdca26"
             ],
             [
              1,
              "#f0f921"
             ]
            ],
            "type": "heatmapgl"
           }
          ],
          "histogram": [
           {
            "marker": {
             "pattern": {
              "fillmode": "overlay",
              "size": 10,
              "solidity": 0.2
             }
            },
            "type": "histogram"
           }
          ],
          "histogram2d": [
           {
            "colorbar": {
             "outlinewidth": 0,
             "ticks": ""
            },
            "colorscale": [
             [
              0,
              "#0d0887"
             ],
             [
              0.1111111111111111,
              "#46039f"
             ],
             [
              0.2222222222222222,
              "#7201a8"
             ],
             [
              0.3333333333333333,
              "#9c179e"
             ],
             [
              0.4444444444444444,
              "#bd3786"
             ],
             [
              0.5555555555555556,
              "#d8576b"
             ],
             [
              0.6666666666666666,
              "#ed7953"
             ],
             [
              0.7777777777777778,
              "#fb9f3a"
             ],
             [
              0.8888888888888888,
              "#fdca26"
             ],
             [
              1,
              "#f0f921"
             ]
            ],
            "type": "histogram2d"
           }
          ],
          "histogram2dcontour": [
           {
            "colorbar": {
             "outlinewidth": 0,
             "ticks": ""
            },
            "colorscale": [
             [
              0,
              "#0d0887"
             ],
             [
              0.1111111111111111,
              "#46039f"
             ],
             [
              0.2222222222222222,
              "#7201a8"
             ],
             [
              0.3333333333333333,
              "#9c179e"
             ],
             [
              0.4444444444444444,
              "#bd3786"
             ],
             [
              0.5555555555555556,
              "#d8576b"
             ],
             [
              0.6666666666666666,
              "#ed7953"
             ],
             [
              0.7777777777777778,
              "#fb9f3a"
             ],
             [
              0.8888888888888888,
              "#fdca26"
             ],
             [
              1,
              "#f0f921"
             ]
            ],
            "type": "histogram2dcontour"
           }
          ],
          "mesh3d": [
           {
            "colorbar": {
             "outlinewidth": 0,
             "ticks": ""
            },
            "type": "mesh3d"
           }
          ],
          "parcoords": [
           {
            "line": {
             "colorbar": {
              "outlinewidth": 0,
              "ticks": ""
             }
            },
            "type": "parcoords"
           }
          ],
          "pie": [
           {
            "automargin": true,
            "type": "pie"
           }
          ],
          "scatter": [
           {
            "fillpattern": {
             "fillmode": "overlay",
             "size": 10,
             "solidity": 0.2
            },
            "type": "scatter"
           }
          ],
          "scatter3d": [
           {
            "line": {
             "colorbar": {
              "outlinewidth": 0,
              "ticks": ""
             }
            },
            "marker": {
             "colorbar": {
              "outlinewidth": 0,
              "ticks": ""
             }
            },
            "type": "scatter3d"
           }
          ],
          "scattercarpet": [
           {
            "marker": {
             "colorbar": {
              "outlinewidth": 0,
              "ticks": ""
             }
            },
            "type": "scattercarpet"
           }
          ],
          "scattergeo": [
           {
            "marker": {
             "colorbar": {
              "outlinewidth": 0,
              "ticks": ""
             }
            },
            "type": "scattergeo"
           }
          ],
          "scattergl": [
           {
            "marker": {
             "colorbar": {
              "outlinewidth": 0,
              "ticks": ""
             }
            },
            "type": "scattergl"
           }
          ],
          "scattermapbox": [
           {
            "marker": {
             "colorbar": {
              "outlinewidth": 0,
              "ticks": ""
             }
            },
            "type": "scattermapbox"
           }
          ],
          "scatterpolar": [
           {
            "marker": {
             "colorbar": {
              "outlinewidth": 0,
              "ticks": ""
             }
            },
            "type": "scatterpolar"
           }
          ],
          "scatterpolargl": [
           {
            "marker": {
             "colorbar": {
              "outlinewidth": 0,
              "ticks": ""
             }
            },
            "type": "scatterpolargl"
           }
          ],
          "scatterternary": [
           {
            "marker": {
             "colorbar": {
              "outlinewidth": 0,
              "ticks": ""
             }
            },
            "type": "scatterternary"
           }
          ],
          "surface": [
           {
            "colorbar": {
             "outlinewidth": 0,
             "ticks": ""
            },
            "colorscale": [
             [
              0,
              "#0d0887"
             ],
             [
              0.1111111111111111,
              "#46039f"
             ],
             [
              0.2222222222222222,
              "#7201a8"
             ],
             [
              0.3333333333333333,
              "#9c179e"
             ],
             [
              0.4444444444444444,
              "#bd3786"
             ],
             [
              0.5555555555555556,
              "#d8576b"
             ],
             [
              0.6666666666666666,
              "#ed7953"
             ],
             [
              0.7777777777777778,
              "#fb9f3a"
             ],
             [
              0.8888888888888888,
              "#fdca26"
             ],
             [
              1,
              "#f0f921"
             ]
            ],
            "type": "surface"
           }
          ],
          "table": [
           {
            "cells": {
             "fill": {
              "color": "#EBF0F8"
             },
             "line": {
              "color": "white"
             }
            },
            "header": {
             "fill": {
              "color": "#C8D4E3"
             },
             "line": {
              "color": "white"
             }
            },
            "type": "table"
           }
          ]
         },
         "layout": {
          "annotationdefaults": {
           "arrowcolor": "#2a3f5f",
           "arrowhead": 0,
           "arrowwidth": 1
          },
          "autotypenumbers": "strict",
          "coloraxis": {
           "colorbar": {
            "outlinewidth": 0,
            "ticks": ""
           }
          },
          "colorscale": {
           "diverging": [
            [
             0,
             "#8e0152"
            ],
            [
             0.1,
             "#c51b7d"
            ],
            [
             0.2,
             "#de77ae"
            ],
            [
             0.3,
             "#f1b6da"
            ],
            [
             0.4,
             "#fde0ef"
            ],
            [
             0.5,
             "#f7f7f7"
            ],
            [
             0.6,
             "#e6f5d0"
            ],
            [
             0.7,
             "#b8e186"
            ],
            [
             0.8,
             "#7fbc41"
            ],
            [
             0.9,
             "#4d9221"
            ],
            [
             1,
             "#276419"
            ]
           ],
           "sequential": [
            [
             0,
             "#0d0887"
            ],
            [
             0.1111111111111111,
             "#46039f"
            ],
            [
             0.2222222222222222,
             "#7201a8"
            ],
            [
             0.3333333333333333,
             "#9c179e"
            ],
            [
             0.4444444444444444,
             "#bd3786"
            ],
            [
             0.5555555555555556,
             "#d8576b"
            ],
            [
             0.6666666666666666,
             "#ed7953"
            ],
            [
             0.7777777777777778,
             "#fb9f3a"
            ],
            [
             0.8888888888888888,
             "#fdca26"
            ],
            [
             1,
             "#f0f921"
            ]
           ],
           "sequentialminus": [
            [
             0,
             "#0d0887"
            ],
            [
             0.1111111111111111,
             "#46039f"
            ],
            [
             0.2222222222222222,
             "#7201a8"
            ],
            [
             0.3333333333333333,
             "#9c179e"
            ],
            [
             0.4444444444444444,
             "#bd3786"
            ],
            [
             0.5555555555555556,
             "#d8576b"
            ],
            [
             0.6666666666666666,
             "#ed7953"
            ],
            [
             0.7777777777777778,
             "#fb9f3a"
            ],
            [
             0.8888888888888888,
             "#fdca26"
            ],
            [
             1,
             "#f0f921"
            ]
           ]
          },
          "colorway": [
           "#636efa",
           "#EF553B",
           "#00cc96",
           "#ab63fa",
           "#FFA15A",
           "#19d3f3",
           "#FF6692",
           "#B6E880",
           "#FF97FF",
           "#FECB52"
          ],
          "font": {
           "color": "#2a3f5f"
          },
          "geo": {
           "bgcolor": "white",
           "lakecolor": "white",
           "landcolor": "#E5ECF6",
           "showlakes": true,
           "showland": true,
           "subunitcolor": "white"
          },
          "hoverlabel": {
           "align": "left"
          },
          "hovermode": "closest",
          "mapbox": {
           "style": "light"
          },
          "paper_bgcolor": "white",
          "plot_bgcolor": "#E5ECF6",
          "polar": {
           "angularaxis": {
            "gridcolor": "white",
            "linecolor": "white",
            "ticks": ""
           },
           "bgcolor": "#E5ECF6",
           "radialaxis": {
            "gridcolor": "white",
            "linecolor": "white",
            "ticks": ""
           }
          },
          "scene": {
           "xaxis": {
            "backgroundcolor": "#E5ECF6",
            "gridcolor": "white",
            "gridwidth": 2,
            "linecolor": "white",
            "showbackground": true,
            "ticks": "",
            "zerolinecolor": "white"
           },
           "yaxis": {
            "backgroundcolor": "#E5ECF6",
            "gridcolor": "white",
            "gridwidth": 2,
            "linecolor": "white",
            "showbackground": true,
            "ticks": "",
            "zerolinecolor": "white"
           },
           "zaxis": {
            "backgroundcolor": "#E5ECF6",
            "gridcolor": "white",
            "gridwidth": 2,
            "linecolor": "white",
            "showbackground": true,
            "ticks": "",
            "zerolinecolor": "white"
           }
          },
          "shapedefaults": {
           "line": {
            "color": "#2a3f5f"
           }
          },
          "ternary": {
           "aaxis": {
            "gridcolor": "white",
            "linecolor": "white",
            "ticks": ""
           },
           "baxis": {
            "gridcolor": "white",
            "linecolor": "white",
            "ticks": ""
           },
           "bgcolor": "#E5ECF6",
           "caxis": {
            "gridcolor": "white",
            "linecolor": "white",
            "ticks": ""
           }
          },
          "title": {
           "x": 0.05
          },
          "xaxis": {
           "automargin": true,
           "gridcolor": "white",
           "linecolor": "white",
           "ticks": "",
           "title": {
            "standoff": 15
           },
           "zerolinecolor": "white",
           "zerolinewidth": 2
          },
          "yaxis": {
           "automargin": true,
           "gridcolor": "white",
           "linecolor": "white",
           "ticks": "",
           "title": {
            "standoff": 15
           },
           "zerolinecolor": "white",
           "zerolinewidth": 2
          }
         }
        },
        "title": {
         "text": "b. Meat and dairy companies at COP28 (N=88)"
        },
        "width": 1000
       }
      },
      "image/png": "[encoded data removed]",
      "text/html": [
       "<div>                            <div id=\"f323e61b-74ff-44a1-a82c-07383c30c3f6\" class=\"plotly-graph-div\" style=\"height:400px; width:1000px;\"></div>            <script type=\"text/javascript\">                require([\"plotly\"], function(Plotly) {                    window.PLOTLYENV=window.PLOTLYENV || {};                                    if (document.getElementById(\"f323e61b-74ff-44a1-a82c-07383c30c3f6\")) {                    Plotly.newPlot(                        \"f323e61b-74ff-44a1-a82c-07383c30c3f6\",                        [{\"link\":{\"color\":[\"#fbf1f4\",\"#fbf1f4\",\"#fbf1f4\",\"#fbf1f4\",\"#fbf1f4\",\"#fbf1f4\",\"#f2e6f2\",\"#f2e6f2\",\"#f2e6f2\",\"#f2e6f2\",\"#f2f2f2\",\"#fbf1f4\",\"#f2e6f2\",\"#f2e6f2\",\"#fbf1f4\",\"#fbf1f4\",\"#fbf1f4\",\"#f2e6f2\",\"#f2e6f2\",\"#fbf1f4\",\"#fbf1f4\",\"#fbf1f4\",\"#fbf1f4\",\"#fbf1f4\",\"#f2f2f2\",\"#f2f2f2\",\"#f2e6f2\",\"#f2e6f2\",\"#e6e6f2\",\"#e6e6f2\",\"#e6e6f2\",\"#e6e6f2\",\"#e6e6f2\",\"#e9f4ff\",\"#e9f4ff\",\"#e9f4ff\",\"#f2f2f2\",\"#f2f2f2\",\"#f2e6f2\",\"#f2e6f2\",\"#fbf1f4\",\"#f2e6f2\",\"#f2e6f2\",\"#fbf1f4\",\"#fbf1f4\",\"#fbf1f4\",\"#f2f2f2\",\"#e6e6f2\",\"#f2e6f2\",\"#e6e6f2\",\"#fbf1f4\",\"#f2e6f2\",\"#f2f2f2\",\"#e9f4ff\",\"#f2e6f2\",\"#f2e6f2\",\"#f2e6f2\",\"#f2f2f2\",\"#e6e6f2\",\"#f2f2f2\",\"#e9f4ff\",\"#e6e6f2\",\"#f2e6f2\",\"#fbf1f4\",\"#e6e6f2\",\"#fbf1f4\",\"#f2f2f2\",\"#e6e6f2\",\"#e9f4ff\",\"#e6e6f2\",\"#fbf1f4\",\"#f2e6f2\"],\"source\":[1,1,1,1,1,1,0,0,0,0,2,4,5,6,7,8,9,3,5,8,11,8,12,11,10,10,3,13,17,17,17,17,17,18,18,18,20,16,14,15,15,15,15,15,15,15,19,29,23,34,22,23,38,31,23,23,23,37,32,28,35,36,24,25,30,26,38,32,33,36,27,21],\"target\":[4,7,8,9,12,11,5,6,3,13,10,15,15,15,15,15,15,15,18,18,18,17,17,17,16,19,14,20,29,30,32,34,36,31,33,35,38,28,21,21,22,23,24,25,26,27,37,41,41,41,40,40,40,40,42,43,44,44,44,44,44,44,45,46,46,47,47,47,47,47,48,39],\"value\":[1,2,9,3,4,4,34,3,17,2,9,1,33,3,2,2,3,16,1,2,1,5,4,3,8,1,1,2,1,1,5,1,4,1,1,2,2,8,1,16,1,33,3,2,2,3,1,1,9,1,1,15,1,1,6,2,1,1,2,8,2,2,3,2,1,2,1,3,1,2,3,17]},\"node\":{\"color\":[\"purple\",\"palevioletred\",\"gray\",\"purple\",\"palevioletred\",\"purple\",\"purple\",\"palevioletred\",\"palevioletred\",\"palevioletred\",\"gray\",\"palevioletred\",\"palevioletred\",\"purple\",\"gray\",\"gray\",\"gray\",\"navy\",\"dodgerblue\",\"gray\",\"gray\",\"purple\",\"palevioletred\",\"purple\",\"purple\",\"palevioletred\",\"palevioletred\",\"palevioletred\",\"gray\",\"navy\",\"navy\",\"dodgerblue\",\"navy\",\"dodgerblue\",\"navy\",\"dodgerblue\",\"navy\",\"gray\",\"gray\",\"gray\",\"gray\",\"gray\",\"gray\",\"gray\",\"gray\",\"gray\",\"gray\",\"gray\",\"gray\"],\"label\":[\"Non-Annex\",\"Annex II\",\"Non-Country\",\"Thailand\",\"\",\"Brazil\",\"\",\"\",\"France\",\"\",\"International\",\"\",\"\",\"\",\"Parties\",\"Party overflow\",\"IGO\",\"NGO Business and Industry\",\"NGO Environmental\",\"United Nations\",\"Host\",\"Thailand  \",\"\",\"Brazil  \",\"\",\"\",\"\",\"\",\"LAS\",\"\",\"\",\"\",\"ICC\",\"\",\"\",\"\",\"\",\"\",\"\",\"Charoen Pokphand\",\"Minerva Foods\",\"JBS\",\"BRF\",\"\",\"Nestle\",\"\",\"\",\"Danone\",\"\"],\"line\":{\"color\":\"black\",\"width\":0},\"pad\":5,\"thickness\":30},\"type\":\"sankey\"}],                        {\"font\":{\"color\":\"black\",\"size\":12},\"height\":400,\"title\":{\"text\":\"b. Meat and dairy companies at COP28 (N=88)\"},\"width\":1000,\"template\":{\"data\":{\"histogram2dcontour\":[{\"type\":\"histogram2dcontour\",\"colorbar\":{\"outlinewidth\":0,\"ticks\":\"\"},\"colorscale\":[[0.0,\"#0d0887\"],[0.1111111111111111,\"#46039f\"],[0.2222222222222222,\"#7201a8\"],[0.3333333333333333,\"#9c179e\"],[0.4444444444444444,\"#bd3786\"],[0.5555555555555556,\"#d8576b\"],[0.6666666666666666,\"#ed7953\"],[0.7777777777777778,\"#fb9f3a\"],[0.8888888888888888,\"#fdca26\"],[1.0,\"#f0f921\"]]}],\"choropleth\":[{\"type\":\"choropleth\",\"colorbar\":{\"outlinewidth\":0,\"ticks\":\"\"}}],\"histogram2d\":[{\"type\":\"histogram2d\",\"colorbar\":{\"outlinewidth\":0,\"ticks\":\"\"},\"colorscale\":[[0.0,\"#0d0887\"],[0.1111111111111111,\"#46039f\"],[0.2222222222222222,\"#7201a8\"],[0.3333333333333333,\"#9c179e\"],[0.4444444444444444,\"#bd3786\"],[0.5555555555555556,\"#d8576b\"],[0.6666666666666666,\"#ed7953\"],[0.7777777777777778,\"#fb9f3a\"],[0.8888888888888888,\"#fdca26\"],[1.0,\"#f0f921\"]]}],\"heatmap\":[{\"type\":\"heatmap\",\"colorbar\":{\"outlinewidth\":0,\"ticks\":\"\"},\"colorscale\":[[0.0,\"#0d0887\"],[0.1111111111111111,\"#46039f\"],[0.2222222222222222,\"#7201a8\"],[0.3333333333333333,\"#9c179e\"],[0.4444444444444444,\"#bd3786\"],[0.5555555555555556,\"#d8576b\"],[0.6666666666666666,\"#ed7953\"],[0.7777777777777778,\"#fb9f3a\"],[0.8888888888888888,\"#fdca26\"],[1.0,\"#f0f921\"]]}],\"heatmapgl\":[{\"type\":\"heatmapgl\",\"colorbar\":{\"outlinewidth\":0,\"ticks\":\"\"},\"colorscale\":[[0.0,\"#0d0887\"],[0.1111111111111111,\"#46039f\"],[0.2222222222222222,\"#7201a8\"],[0.3333333333333333,\"#9c179e\"],[0.4444444444444444,\"#bd3786\"],[0.5555555555555556,\"#d8576b\"],[0.6666666666666666,\"#ed7953\"],[0.7777777777777778,\"#fb9f3a\"],[0.8888888888888888,\"#fdca26\"],[1.0,\"#f0f921\"]]}],\"contourcarpet\":[{\"type\":\"contourcarpet\",\"colorbar\":{\"outlinewidth\":0,\"ticks\":\"\"}}],\"contour\":[{\"type\":\"contour\",\"colorbar\":{\"outlinewidth\":0,\"ticks\":\"\"},\"colorscale\":[[0.0,\"#0d0887\"],[0.1111111111111111,\"#46039f\"],[0.2222222222222222,\"#7201a8\"],[0.3333333333333333,\"#9c179e\"],[0.4444444444444444,\"#bd3786\"],[0.5555555555555556,\"#d8576b\"],[0.6666666666666666,\"#ed7953\"],[0.7777777777777778,\"#fb9f3a\"],[0.8888888888888888,\"#fdca26\"],[1.0,\"#f0f921\"]]}],\"surface\":[{\"type\":\"surface\",\"colorbar\":{\"outlinewidth\":0,\"ticks\":\"\"},\"colorscale\":[[0.0,\"#0d0887\"],[0.1111111111111111,\"#46039f\"],[0.2222222222222222,\"#7201a8\"],[0.3333333333333333,\"#9c179e\"],[0.4444444444444444,\"#bd3786\"],[0.5555555555555556,\"#d8576b\"],[0.6666666666666666,\"#ed7953\"],[0.7777777777777778,\"#fb9f3a\"],[0.8888888888888888,\"#fdca26\"],[1.0,\"#f0f921\"]]}],\"mesh3d\":[{\"type\":\"mesh3d\",\"colorbar\":{\"outlinewidth\":0,\"ticks\":\"\"}}],\"scatter\":[{\"fillpattern\":{\"fillmode\":\"overlay\",\"size\":10,\"solidity\":0.2},\"type\":\"scatter\"}],\"parcoords\":[{\"type\":\"parcoords\",\"line\":{\"colorbar\":{\"outlinewidth\":0,\"ticks\":\"\"}}}],\"scatterpolargl\":[{\"type\":\"scatterpolargl\",\"marker\":{\"colorbar\":{\"outlinewidth\":0,\"ticks\":\"\"}}}],\"bar\":[{\"error_x\":{\"color\":\"#2a3f5f\"},\"error_y\":{\"color\":\"#2a3f5f\"},\"marker\":{\"line\":{\"color\":\"#E5ECF6\",\"width\":0.5},\"pattern\":{\"fillmode\":\"overlay\",\"size\":10,\"solidity\":0.2}},\"type\":\"bar\"}],\"scattergeo\":[{\"type\":\"scattergeo\",\"marker\":{\"colorbar\":{\"outlinewidth\":0,\"ticks\":\"\"}}}],\"scatterpolar\":[{\"type\":\"scatterpolar\",\"marker\":{\"colorbar\":{\"outlinewidth\":0,\"ticks\":\"\"}}}],\"histogram\":[{\"marker\":{\"pattern\":{\"fillmode\":\"overlay\",\"size\":10,\"solidity\":0.2}},\"type\":\"histogram\"}],\"scattergl\":[{\"type\":\"scattergl\",\"marker\":{\"colorbar\":{\"outlinewidth\":0,\"ticks\":\"\"}}}],\"scatter3d\":[{\"type\":\"scatter3d\",\"line\":{\"colorbar\":{\"outlinewidth\":0,\"ticks\":\"\"}},\"marker\":{\"colorbar\":{\"outlinewidth\":0,\"ticks\":\"\"}}}],\"scattermapbox\":[{\"type\":\"scattermapbox\",\"marker\":{\"colorbar\":{\"outlinewidth\":0,\"ticks\":\"\"}}}],\"scatterternary\":[{\"type\":\"scatterternary\",\"marker\":{\"colorbar\":{\"outlinewidth\":0,\"ticks\":\"\"}}}],\"scattercarpet\":[{\"type\":\"scattercarpet\",\"marker\":{\"colorbar\":{\"outlinewidth\":0,\"ticks\":\"\"}}}],\"carpet\":[{\"aaxis\":{\"endlinecolor\":\"#2a3f5f\",\"gridcolor\":\"white\",\"linecolor\":\"white\",\"minorgridcolor\":\"white\",\"startlinecolor\":\"#2a3f5f\"},\"baxis\":{\"endlinecolor\":\"#2a3f5f\",\"gridcolor\":\"white\",\"linecolor\":\"white\",\"minorgridcolor\":\"white\",\"startlinecolor\":\"#2a3f5f\"},\"type\":\"carpet\"}],\"table\":[{\"cells\":{\"fill\":{\"color\":\"#EBF0F8\"},\"line\":{\"color\":\"white\"}},\"header\":{\"fill\":{\"color\":\"#C8D4E3\"},\"line\":{\"color\":\"white\"}},\"type\":\"table\"}],\"barpolar\":[{\"marker\":{\"line\":{\"color\":\"#E5ECF6\",\"width\":0.5},\"pattern\":{\"fillmode\":\"overlay\",\"size\":10,\"solidity\":0.2}},\"type\":\"barpolar\"}],\"pie\":[{\"automargin\":true,\"type\":\"pie\"}]},\"layout\":{\"autotypenumbers\":\"strict\",\"colorway\":[\"#636efa\",\"#EF553B\",\"#00cc96\",\"#ab63fa\",\"#FFA15A\",\"#19d3f3\",\"#FF6692\",\"#B6E880\",\"#FF97FF\",\"#FECB52\"],\"font\":{\"color\":\"#2a3f5f\"},\"hovermode\":\"closest\",\"hoverlabel\":{\"align\":\"left\"},\"paper_bgcolor\":\"white\",\"plot_bgcolor\":\"#E5ECF6\",\"polar\":{\"bgcolor\":\"#E5ECF6\",\"angularaxis\":{\"gridcolor\":\"white\",\"linecolor\":\"white\",\"ticks\":\"\"},\"radialaxis\":{\"gridcolor\":\"white\",\"linecolor\":\"white\",\"ticks\":\"\"}},\"ternary\":{\"bgcolor\":\"#E5ECF6\",\"aaxis\":{\"gridcolor\":\"white\",\"linecolor\":\"white\",\"ticks\":\"\"},\"baxis\":{\"gridcolor\":\"white\",\"linecolor\":\"white\",\"ticks\":\"\"},\"caxis\":{\"gridcolor\":\"white\",\"linecolor\":\"white\",\"ticks\":\"\"}},\"coloraxis\":{\"colorbar\":{\"outlinewidth\":0,\"ticks\":\"\"}},\"colorscale\":{\"sequential\":[[0.0,\"#0d0887\"],[0.1111111111111111,\"#46039f\"],[0.2222222222222222,\"#7201a8\"],[0.3333333333333333,\"#9c179e\"],[0.4444444444444444,\"#bd3786\"],[0.5555555555555556,\"#d8576b\"],[0.6666666666666666,\"#ed7953\"],[0.7777777777777778,\"#fb9f3a\"],[0.8888888888888888,\"#fdca26\"],[1.0,\"#f0f921\"]],\"sequentialminus\":[[0.0,\"#0d0887\"],[0.1111111111111111,\"#46039f\"],[0.2222222222222222,\"#7201a8\"],[0.3333333333333333,\"#9c179e\"],[0.4444444444444444,\"#bd3786\"],[0.5555555555555556,\"#d8576b\"],[0.6666666666666666,\"#ed7953\"],[0.7777777777777778,\"#fb9f3a\"],[0.8888888888888888,\"#fdca26\"],[1.0,\"#f0f921\"]],\"diverging\":[[0,\"#8e0152\"],[0.1,\"#c51b7d\"],[0.2,\"#de77ae\"],[0.3,\"#f1b6da\"],[0.4,\"#fde0ef\"],[0.5,\"#f7f7f7\"],[0.6,\"#e6f5d0\"],[0.7,\"#b8e186\"],[0.8,\"#7fbc41\"],[0.9,\"#4d9221\"],[1,\"#276419\"]]},\"xaxis\":{\"gridcolor\":\"white\",\"linecolor\":\"white\",\"ticks\":\"\",\"title\":{\"standoff\":15},\"zerolinecolor\":\"white\",\"automargin\":true,\"zerolinewidth\":2},\"yaxis\":{\"gridcolor\":\"white\",\"linecolor\":\"white\",\"ticks\":\"\",\"title\":{\"standoff\":15},\"zerolinecolor\":\"white\",\"automargin\":true,\"zerolinewidth\":2},\"scene\":{\"xaxis\":{\"backgroundcolor\":\"#E5ECF6\",\"gridcolor\":\"white\",\"linecolor\":\"white\",\"showbackground\":true,\"ticks\":\"\",\"zerolinecolor\":\"white\",\"gridwidth\":2},\"yaxis\":{\"backgroundcolor\":\"#E5ECF6\",\"gridcolor\":\"white\",\"linecolor\":\"white\",\"showbackground\":true,\"ticks\":\"\",\"zerolinecolor\":\"white\",\"gridwidth\":2},\"zaxis\":{\"backgroundcolor\":\"#E5ECF6\",\"gridcolor\":\"white\",\"linecolor\":\"white\",\"showbackground\":true,\"ticks\":\"\",\"zerolinecolor\":\"white\",\"gridwidth\":2}},\"shapedefaults\":{\"line\":{\"color\":\"#2a3f5f\"}},\"annotationdefaults\":{\"arrowcolor\":\"#2a3f5f\",\"arrowhead\":0,\"arrowwidth\":1},\"geo\":{\"bgcolor\":\"white\",\"landcolor\":\"#E5ECF6\",\"subunitcolor\":\"white\",\"showland\":true,\"showlakes\":true,\"lakecolor\":\"white\"},\"title\":{\"x\":0.05},\"mapbox\":{\"style\":\"light\"}}}},                        {\"responsive\": true}                    ).then(function(){\n",
       "                            \n",
       "var gd = document.getElementById('f323e61b-74ff-44a1-a82c-07383c30c3f6');\n",
       "var x = new MutationObserver(function (mutations, observer) {{\n",
       "        var display = window.getComputedStyle(gd).display;\n",
       "        if (!display || display === 'none') {{\n",
       "            console.log([gd, 'removed!']);\n",
       "            Plotly.purge(gd);\n",
       "            observer.disconnect();\n",
       "        }}\n",
       "}});\n",
       "\n",
       "// Listen for the removal of the full notebook cells\n",
       "var notebookContainer = gd.closest('#notebook-container');\n",
       "if (notebookContainer) {{\n",
       "    x.observe(notebookContainer, {childList: true});\n",
       "}}\n",
       "\n",
       "// Listen for the clearing of the current output cell\n",
       "var outputEl = gd.closest('.output');\n",
       "if (outputEl) {{\n",
       "    x.observe(outputEl, {childList: true});\n",
       "}}\n",
       "\n",
       "                        })                };                });            </script>        </div>"
      ]
     },
     "metadata": {},
     "output_type": "display_data"
    }
   ],
   "source": [
    "import plotly.graph_objects as go\n",
    "\n",
    "fig = go.Figure(data=[go.Sankey(\n",
    "    node = dict(\n",
    "      pad = 5,\n",
    "      thickness = 30,\n",
    "      line = dict(color = \"black\", width = 0),\n",
    "      #label = index_db[\"name\"],\n",
    "      label=  index_db[\"name_show\"].str.replace(\"Constituency -\",\"NGO\"),\n",
    "      color = index_db[\"color\"]\n",
    "    ),\n",
    "    link = dict(\n",
    "      source = combined_list[\"source_index\"], \n",
    "      target = combined_list[\"target_index\"],\n",
    "      value = combined_list[\"count\"],\n",
    "        color = combined_list[\"color\"]\n",
    "    ))],\n",
    "       layout =  dict(\n",
    "    title = \"b. Meat and dairy companies at COP28 (N=88)\",\n",
    "    height = 400,\n",
    "    width = 1000,\n",
    "    font = dict(\n",
    "      size = 12,\n",
    "        color=\"black\"\n",
    "    )        ))\n",
    "\n",
    "fig.show()\n",
    "fig.write_image(\"sankey_food.png\", scale=2)"
   ]
  },
  {
   "cell_type": "code",
   "execution_count": null,
   "id": "5cb6f0f4-fd15-46b5-a79f-5853a54f6105",
   "metadata": {},
   "outputs": [],
   "source": []
  }
 ],
 "metadata": {
  "kernelspec": {
   "display_name": "Python 3 (ipykernel)",
   "language": "python",
   "name": "python3"
  },
  "language_info": {
   "codemirror_mode": {
    "name": "ipython",
    "version": 3
   },
   "file_extension": ".py",
   "mimetype": "text/x-python",
   "name": "python",
   "nbconvert_exporter": "python",
   "pygments_lexer": "ipython3",
   "version": "3.8.17"
  }
 },
 "nbformat": 4,
 "nbformat_minor": 5
}
