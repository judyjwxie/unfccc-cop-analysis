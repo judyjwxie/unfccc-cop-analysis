{
 "cells": [
  {
   "cell_type": "code",
   "execution_count": 1,
   "id": "b92fe979-874b-4028-a295-bdccfe385c8a",
   "metadata": {
    "tags": []
   },
   "outputs": [],
   "source": [
    "import pandas as pd\n",
    "import numpy as np\n",
    "import plotly.graph_objects as go\n",
    "from plotly.subplots import make_subplots"
   ]
  },
  {
   "cell_type": "markdown",
   "id": "adffe7fb-9a8a-4596-bae0-72aecd9ddf2d",
   "metadata": {},
   "source": [
    "https://stackoverflow.com/questions/55428016/trouble-with-multiple-sankey-subplots-in-plotly"
   ]
  },
  {
   "cell_type": "code",
   "execution_count": 2,
   "id": "01cfaf0a-22e5-46c4-b645-cc9c2279e992",
   "metadata": {
    "tags": []
   },
   "outputs": [],
   "source": [
    "nodes_fossil = pd.read_excel(\"nodes_fossil.xlsx\")\n",
    "links_fossil = pd.read_excel(\"links_fossil.xlsx\")"
   ]
  },
  {
   "cell_type": "code",
   "execution_count": 3,
   "id": "4a37cf21-6357-4343-b129-69109413bbfe",
   "metadata": {
    "tags": []
   },
   "outputs": [],
   "source": [
    "nodes_fossil[\"name_show\"] = nodes_fossil[\"name_show\"].str.replace(\"Constituency -\",\"NGO\").replace(\"United Kingdom of Great Britain and Northern Ireland\",\"United Kingdom\")\n",
    "nodes_fossil[\"name_show\"] = nodes_fossil[\"name_show\"].str.replace(\"NGO Research and independent\",\"RINGO\").replace('NGO Business and Industry',\"BINGO\")"
   ]
  },
  {
   "cell_type": "code",
   "execution_count": 34,
   "id": "d4be142c-4cc8-4465-96e3-ede06583fd4b",
   "metadata": {
    "tags": []
   },
   "outputs": [
    {
     "data": {
      "application/vnd.plotly.v1+json": {
       "config": {
        "plotlyServerURL": "https://plot.ly"
       },
       "data": [
        {
         "domain": {
          "y": [
           0,
           1
          ]
         },
         "link": {
          "color": [
           "#fbf1f4",
           "#fbf1f4",
           "#fbf1f4",
           "#fbf1f4",
           "#fbf1f4",
           "#fbf1f4",
           "#fbf1f4",
           "#fbf1f4",
           "#fbf1f4",
           "#fbf1f4",
           "#fbf1f4",
           "#fbf1f4",
           "#fbf1f4",
           "#fbf1f4",
           "#fbf1f4",
           "#fbf1f4",
           "#fbf1f4",
           "#fbf1f4",
           "#f2e6f2",
           "#f2e6f2",
           "#f2e6f2",
           "#f2e6f2",
           "#f2e6f2",
           "#f2e6f2",
           "#f2e6f2",
           "#f2e6f2",
           "#f2e6f2",
           "#f2e6f2",
           "#f2e6f2",
           "#f2e6f2",
           "#f2e6f2",
           "#f2e6f2",
           "#f2e6f2",
           "#f2e6f2",
           "#f2e6f2",
           "#f2e6f2",
           "#f2e6f2",
           "#f2e6f2",
           "#f2e6f2",
           "#f2e6f2",
           "#f2e6f2",
           "#f2e6f2",
           "#f2e6f2",
           "#f2e6f2",
           "#f2f2f2",
           "#f2e6f2",
           "#fbf1f4",
           "#fbf1f4",
           "#fbf1f4",
           "#f2e6f2",
           "#f2e6f2",
           "#fbf1f4",
           "#f2e6f2",
           "#f2e6f2",
           "#f2e6f2",
           "#f2e6f2",
           "#fbf1f4",
           "#fbf1f4",
           "#fbf1f4",
           "#f2e6f2",
           "#f2e6f2",
           "#fbf1f4",
           "#fbf1f4",
           "#f2e6f2",
           "#f2e6f2",
           "#f2e6f2",
           "#fbf1f4",
           "#fbf1f4",
           "#f2e6f2",
           "#fbf1f4",
           "#f2e6f2",
           "#f2e6f2",
           "#f2e6f2",
           "#f2e6f2",
           "#f2e6f2",
           "#fbf1f4",
           "#f2e6f2",
           "#fbf1f4",
           "#fbf1f4",
           "#f2e6f2",
           "#fbf1f4",
           "#fbf1f4",
           "#fbf1f4",
           "#fbf1f4",
           "#fbf1f4",
           "#f2e6f2",
           "#fbf1f4",
           "#fbf1f4",
           "#fbf1f4",
           "#f2e6f2",
           "#f2e6f2",
           "#f2e6f2",
           "#f2e6f2",
           "#f2e6f2",
           "#fbf1f4",
           "#fbf1f4",
           "#f2e6f2",
           "#f2e6f2",
           "#fbf1f4",
           "#f2e6f2",
           "#f2e6f2",
           "#f2e6f2",
           "#fbf1f4",
           "#fbf1f4",
           "#f2f2f2",
           "#f2e6f2",
           "#e6e6f2",
           "#e6e6f2",
           "#e6e6f2",
           "#e6e6f2",
           "#e6e6f2",
           "#e6e6f2",
           "#e6e6f2",
           "#e6e6f2",
           "#e6e6f2",
           "#e6e6f2",
           "#e6e6f2",
           "#e6e6f2",
           "#e6e6f2",
           "#e6e6f2",
           "#e6e6f2",
           "#e6e6f2",
           "#e6e6f2",
           "#e6e6f2",
           "#e6e6f2",
           "#e6e6f2",
           "#e6e6f2",
           "#e6e6f2",
           "#e6e6f2",
           "#e6e6f2",
           "#e6e6f2",
           "#e9f4ff",
           "#e9f4ff",
           "#e9f4ff",
           "#e9f4ff",
           "#e9f4ff",
           "#e9f4ff",
           "#e9f4ff",
           "#e9f4ff",
           "#e9f4ff",
           "#e9f4ff",
           "#e9f4ff",
           "#e9f4ff",
           "#f2e6f2",
           "#f2e6f2",
           "#f2e6f2",
           "#f2e6f2",
           "#f2e6f2",
           "#f2e6f2",
           "#f2e6f2",
           "#f2e6f2",
           "#fbf1f4",
           "#fbf1f4",
           "#f2e6f2",
           "#f2e6f2",
           "#fbf1f4",
           "#fbf1f4",
           "#fbf1f4",
           "#f2e6f2",
           "#fbf1f4",
           "#f2e6f2",
           "#f2e6f2",
           "#f2e6f2",
           "#f2e6f2",
           "#fbf1f4",
           "#fbf1f4",
           "#fbf1f4",
           "#f2e6f2",
           "#f2e6f2",
           "#fbf1f4",
           "#fbf1f4",
           "#f2e6f2",
           "#f2e6f2",
           "#f2e6f2",
           "#fbf1f4",
           "#fbf1f4",
           "#f2e6f2",
           "#fbf1f4",
           "#f2e6f2",
           "#f2e6f2",
           "#f2e6f2",
           "#f2e6f2",
           "#f2e6f2",
           "#f2f2f2",
           "#f2f2f2",
           "#e9f4ff",
           "#f2e6f2",
           "#e9f4ff",
           "#f2e6f2",
           "#e9f4ff",
           "#f2e6f2",
           "#f2e6f2",
           "#fbf1f4",
           "#fbf1f4",
           "#f2e6f2",
           "#e6e6f2",
           "#e6e6f2",
           "#e6e6f2",
           "#e9f4ff",
           "#e6e6f2",
           "#f2e6f2",
           "#e6e6f2",
           "#e6e6f2",
           "#e6e6f2",
           "#fbf1f4",
           "#e6e6f2",
           "#e6e6f2",
           "#f2e6f2",
           "#fbf1f4",
           "#e9f4ff",
           "#e6e6f2",
           "#e6e6f2",
           "#f2e6f2",
           "#f2e6f2",
           "#e6e6f2",
           "#e6e6f2",
           "#e6e6f2",
           "#e6e6f2",
           "#fbf1f4",
           "#f2e6f2",
           "#e6e6f2",
           "#f2e6f2",
           "#e6e6f2",
           "#e6e6f2",
           "#f2f2f2",
           "#fbf1f4",
           "#fbf1f4",
           "#f2e6f2",
           "#f2e6f2",
           "#f2e6f2",
           "#f2e6f2",
           "#e6e6f2",
           "#f2e6f2",
           "#f2e6f2",
           "#e6e6f2",
           "#e6e6f2",
           "#e6e6f2",
           "#e6e6f2",
           "#fbf1f4",
           "#e6e6f2",
           "#e9f4ff",
           "#f2e6f2",
           "#f2e6f2",
           "#e6e6f2",
           "#e6e6f2",
           "#e6e6f2",
           "#e6e6f2",
           "#e6e6f2",
           "#e6e6f2",
           "#f2e6f2",
           "#e6e6f2",
           "#e6e6f2",
           "#f2e6f2",
           "#f2e6f2",
           "#e9f4ff",
           "#e6e6f2",
           "#fbf1f4",
           "#fbf1f4",
           "#fbf1f4",
           "#fbf1f4",
           "#fbf1f4",
           "#fbf1f4",
           "#fbf1f4",
           "#e6e6f2",
           "#fbf1f4",
           "#e6e6f2",
           "#fbf1f4",
           "#e6e6f2",
           "#fbf1f4",
           "#e6e6f2",
           "#e6e6f2",
           "#f2e6f2",
           "#f2e6f2",
           "#f2e6f2",
           "#f2e6f2",
           "#f2e6f2",
           "#f2e6f2",
           "#f2e6f2",
           "#f2e6f2",
           "#f2e6f2",
           "#f2f2f2",
           "#e6e6f2",
           "#f2e6f2",
           "#e9f4ff",
           "#f2e6f2",
           "#fbf1f4",
           "#fbf1f4",
           "#e9f4ff",
           "#f2e6f2",
           "#e6e6f2",
           "#e6e6f2",
           "#f2e6f2",
           "#f2e6f2",
           "#f2e6f2",
           "#e6e6f2",
           "#e6e6f2",
           "#fbf1f4",
           "#e6e6f2",
           "#f2e6f2",
           "#e6e6f2",
           "#fbf1f4",
           "#e9f4ff",
           "#fbf1f4",
           "#f2e6f2",
           "#f2e6f2",
           "#fbf1f4",
           "#f2e6f2",
           "#f2e6f2",
           "#e9f4ff",
           "#e6e6f2",
           "#f2e6f2",
           "#e6e6f2",
           "#fbf1f4",
           "#e6e6f2",
           "#fbf1f4",
           "#e9f4ff",
           "#fbf1f4",
           "#f2e6f2",
           "#f2e6f2",
           "#fbf1f4",
           "#fbf1f4",
           "#fbf1f4",
           "#f2e6f2",
           "#e6e6f2"
          ],
          "source": [
           1,
           1,
           1,
           2,
           2,
           2,
           2,
           2,
           2,
           2,
           2,
           2,
           2,
           2,
           2,
           2,
           2,
           2,
           0,
           0,
           0,
           0,
           0,
           0,
           0,
           0,
           0,
           0,
           0,
           0,
           0,
           0,
           0,
           0,
           0,
           0,
           0,
           0,
           0,
           0,
           0,
           0,
           0,
           0,
           3,
           12,
           13,
           14,
           15,
           16,
           5,
           17,
           18,
           19,
           20,
           21,
           22,
           23,
           24,
           25,
           26,
           27,
           28,
           29,
           30,
           31,
           32,
           33,
           34,
           35,
           36,
           37,
           38,
           39,
           40,
           15,
           5,
           17,
           23,
           47,
           28,
           45,
           48,
           44,
           42,
           43,
           15,
           28,
           42,
           4,
           5,
           6,
           7,
           8,
           9,
           10,
           11,
           5,
           17,
           18,
           8,
           46,
           44,
           42,
           41,
           40,
           53,
           53,
           53,
           53,
           53,
           53,
           53,
           53,
           53,
           53,
           53,
           53,
           53,
           53,
           53,
           53,
           53,
           53,
           53,
           53,
           53,
           53,
           53,
           53,
           53,
           52,
           52,
           52,
           52,
           52,
           52,
           52,
           52,
           54,
           54,
           54,
           54,
           55,
           55,
           49,
           49,
           50,
           49,
           49,
           49,
           49,
           49,
           49,
           50,
           50,
           50,
           50,
           50,
           50,
           50,
           50,
           50,
           50,
           50,
           50,
           50,
           50,
           50,
           50,
           50,
           50,
           50,
           50,
           50,
           50,
           50,
           50,
           50,
           50,
           50,
           50,
           50,
           51,
           51,
           94,
           78,
           95,
           70,
           96,
           132,
           64,
           69,
           75,
           132,
           97,
           120,
           116,
           122,
           97,
           57,
           98,
           106,
           108,
           75,
           120,
           118,
           81,
           65,
           101,
           102,
           103,
           73,
           132,
           120,
           118,
           126,
           130,
           66,
           132,
           99,
           56,
           110,
           111,
           131,
           79,
           67,
           68,
           72,
           58,
           90,
           100,
           132,
           83,
           102,
           103,
           120,
           118,
           85,
           102,
           112,
           73,
           132,
           120,
           116,
           117,
           129,
           127,
           102,
           132,
           116,
           118,
           60,
           86,
           124,
           126,
           69,
           69,
           69,
           69,
           69,
           69,
           69,
           105,
           69,
           103,
           85,
           103,
           75,
           104,
           110,
           77,
           70,
           70,
           71,
           71,
           133,
           132,
           59,
           92,
           93,
           107,
           132,
           109,
           72,
           75,
           76,
           115,
           132,
           116,
           118,
           82,
           63,
           73,
           120,
           116,
           79,
           113,
           132,
           119,
           74,
           114,
           76,
           132,
           132,
           62,
           132,
           132,
           128,
           116,
           89,
           118,
           80,
           121,
           84,
           123,
           87,
           88,
           88,
           61,
           62,
           62,
           91,
           125
          ],
          "target": [
           35,
           9,
           10,
           13,
           14,
           15,
           17,
           22,
           23,
           24,
           27,
           28,
           32,
           33,
           45,
           48,
           44,
           42,
           12,
           16,
           4,
           5,
           18,
           19,
           20,
           21,
           25,
           47,
           26,
           6,
           29,
           30,
           31,
           7,
           8,
           34,
           46,
           36,
           37,
           38,
           39,
           11,
           40,
           43,
           41,
           50,
           50,
           50,
           50,
           50,
           50,
           50,
           50,
           50,
           50,
           50,
           50,
           50,
           50,
           50,
           50,
           50,
           50,
           50,
           50,
           50,
           50,
           50,
           50,
           50,
           50,
           50,
           50,
           50,
           50,
           53,
           53,
           53,
           53,
           53,
           53,
           53,
           53,
           53,
           53,
           53,
           54,
           54,
           54,
           49,
           49,
           49,
           49,
           49,
           49,
           49,
           49,
           52,
           52,
           52,
           52,
           52,
           52,
           52,
           51,
           55,
           97,
           98,
           99,
           100,
           102,
           103,
           104,
           105,
           106,
           107,
           108,
           110,
           111,
           113,
           120,
           116,
           117,
           118,
           119,
           121,
           125,
           126,
           129,
           127,
           130,
           94,
           95,
           96,
           109,
           115,
           122,
           123,
           124,
           101,
           112,
           114,
           128,
           133,
           132,
           56,
           57,
           57,
           58,
           59,
           60,
           61,
           62,
           63,
           64,
           65,
           66,
           67,
           68,
           69,
           70,
           71,
           72,
           73,
           74,
           75,
           76,
           77,
           78,
           79,
           80,
           81,
           82,
           83,
           84,
           85,
           86,
           87,
           88,
           89,
           90,
           91,
           92,
           131,
           93,
           167,
           167,
           156,
           156,
           178,
           178,
           144,
           144,
           144,
           144,
           179,
           179,
           179,
           179,
           135,
           135,
           164,
           164,
           164,
           164,
           164,
           164,
           164,
           145,
           145,
           145,
           145,
           145,
           145,
           145,
           145,
           145,
           145,
           146,
           146,
           134,
           134,
           134,
           134,
           134,
           134,
           147,
           136,
           136,
           136,
           136,
           169,
           169,
           169,
           171,
           171,
           171,
           171,
           171,
           160,
           160,
           160,
           160,
           160,
           160,
           160,
           160,
           160,
           138,
           138,
           138,
           138,
           138,
           138,
           138,
           138,
           153,
           149,
           148,
           151,
           150,
           154,
           155,
           155,
           152,
           172,
           172,
           163,
           163,
           166,
           166,
           166,
           157,
           158,
           159,
           137,
           137,
           137,
           137,
           137,
           137,
           180,
           180,
           143,
           143,
           143,
           143,
           143,
           143,
           143,
           143,
           143,
           143,
           161,
           161,
           161,
           161,
           181,
           181,
           181,
           162,
           182,
           165,
           187,
           140,
           140,
           188,
           186,
           186,
           176,
           176,
           183,
           168,
           168,
           170,
           184,
           173,
           175,
           174,
           139,
           141,
           142,
           177,
           185
          ],
          "value": [
           2,
           2,
           28,
           1,
           1,
           17,
           17,
           5,
           32,
           4,
           5,
           10,
           1,
           7,
           1,
           7,
           29,
           12,
           1,
           1,
           1,
           12,
           13,
           4,
           2,
           4,
           1,
           1,
           1,
           1,
           1,
           1,
           23,
           8,
           3,
           1,
           1,
           2,
           5,
           3,
           26,
           2,
           75,
           3,
           3,
           1,
           1,
           1,
           6,
           1,
           2,
           15,
           11,
           4,
           2,
           4,
           5,
           20,
           4,
           1,
           1,
           5,
           1,
           1,
           1,
           23,
           1,
           7,
           1,
           2,
           2,
           5,
           3,
           26,
           8,
           7,
           1,
           1,
           12,
           1,
           7,
           1,
           7,
           25,
           9,
           3,
           4,
           2,
           1,
           1,
           8,
           1,
           8,
           1,
           2,
           28,
           2,
           1,
           1,
           2,
           2,
           1,
           4,
           2,
           3,
           67,
           3,
           1,
           1,
           1,
           5,
           5,
           1,
           1,
           1,
           1,
           1,
           2,
           1,
           1,
           9,
           10,
           2,
           7,
           6,
           7,
           1,
           3,
           1,
           2,
           1,
           1,
           1,
           2,
           1,
           1,
           2,
           1,
           4,
           1,
           3,
           1,
           2,
           1,
           66,
           1,
           8,
           2,
           1,
           8,
           1,
           2,
           28,
           2,
           1,
           1,
           1,
           6,
           1,
           15,
           11,
           4,
           2,
           4,
           5,
           20,
           4,
           1,
           1,
           5,
           1,
           1,
           1,
           23,
           1,
           7,
           1,
           2,
           2,
           5,
           3,
           26,
           8,
           2,
           1,
           1,
           1,
           1,
           9,
           2,
           1,
           1,
           2,
           1,
           3,
           1,
           1,
           2,
           2,
           2,
           10,
           1,
           1,
           1,
           6,
           1,
           1,
           1,
           1,
           1,
           1,
           1,
           1,
           3,
           1,
           1,
           2,
           1,
           1,
           3,
           1,
           1,
           1,
           1,
           2,
           1,
           6,
           1,
           1,
           1,
           3,
           1,
           1,
           23,
           2,
           2,
           2,
           2,
           4,
           1,
           3,
           1,
           4,
           3,
           1,
           2,
           1,
           2,
           1,
           3,
           4,
           1,
           1,
           1,
           4,
           1,
           2,
           1,
           3,
           1,
           1,
           2,
           1,
           1,
           2,
           1,
           3,
           1,
           3,
           1,
           1,
           1,
           1,
           1,
           3,
           1,
           1,
           23,
           8,
           8,
           1,
           1,
           1,
           1,
           1,
           10,
           1,
           1,
           1,
           1,
           1,
           1,
           2,
           2,
           1,
           1,
           4,
           1,
           1,
           6,
           5,
           1,
           3,
           14,
           3,
           7,
           3,
           2,
           2,
           1,
           5,
           1,
           1,
           7,
           1,
           1,
           2,
           1,
           1,
           2,
           18,
           3,
           26,
           1
          ]
         },
         "node": {
          "color": [
           "purple",
           "palevioletred",
           "palevioletred",
           "gray",
           "purple",
           "purple",
           "purple",
           "purple",
           "purple",
           "palevioletred",
           "palevioletred",
           "purple",
           "purple",
           "palevioletred",
           "palevioletred",
           "palevioletred",
           "purple",
           "palevioletred",
           "purple",
           "purple",
           "purple",
           "purple",
           "palevioletred",
           "palevioletred",
           "palevioletred",
           "purple",
           "purple",
           "palevioletred",
           "palevioletred",
           "purple",
           "purple",
           "purple",
           "palevioletred",
           "palevioletred",
           "purple",
           "palevioletred",
           "purple",
           "purple",
           "purple",
           "purple",
           "purple",
           "gray",
           "palevioletred",
           "purple",
           "palevioletred",
           "palevioletred",
           "purple",
           "purple",
           "palevioletred",
           "gray",
           "gray",
           "gray",
           "dodgerblue",
           "navy",
           "dodgerblue",
           "gray",
           "purple",
           "purple",
           "purple",
           "purple",
           "purple",
           "palevioletred",
           "palevioletred",
           "purple",
           "purple",
           "palevioletred",
           "palevioletred",
           "palevioletred",
           "purple",
           "palevioletred",
           "purple",
           "purple",
           "purple",
           "purple",
           "palevioletred",
           "palevioletred",
           "palevioletred",
           "purple",
           "purple",
           "palevioletred",
           "palevioletred",
           "purple",
           "purple",
           "purple",
           "palevioletred",
           "palevioletred",
           "purple",
           "palevioletred",
           "purple",
           "purple",
           "purple",
           "purple",
           "purple",
           "gray",
           "dodgerblue",
           "dodgerblue",
           "dodgerblue",
           "navy",
           "navy",
           "navy",
           "navy",
           "dodgerblue",
           "navy",
           "navy",
           "navy",
           "navy",
           "navy",
           "navy",
           "navy",
           "dodgerblue",
           "navy",
           "navy",
           "dodgerblue",
           "navy",
           "dodgerblue",
           "dodgerblue",
           "navy",
           "navy",
           "navy",
           "navy",
           "navy",
           "navy",
           "dodgerblue",
           "dodgerblue",
           "dodgerblue",
           "navy",
           "navy",
           "navy",
           "dodgerblue",
           "navy",
           "navy",
           "gray",
           "purple",
           "purple",
           "gray",
           "gray",
           "gray",
           "gray",
           "gray",
           "gray",
           "gray",
           "gray",
           "gray",
           "gray",
           "gray",
           "gray",
           "gray",
           "gray",
           "gray",
           "gray",
           "gray",
           "gray",
           "gray",
           "gray",
           "gray",
           "gray",
           "gray",
           "gray",
           "gray",
           "gray",
           "gray",
           "gray",
           "gray",
           "gray",
           "gray",
           "gray",
           "gray",
           "gray",
           "gray",
           "gray",
           "gray",
           "gray",
           "gray",
           "gray",
           "gray",
           "gray",
           "gray",
           "gray",
           "gray",
           "gray",
           "gray",
           "gray",
           "gray",
           "gray",
           "gray",
           "gray",
           "gray",
           "gray",
           "gray"
          ],
          "label": [
           "Non-Annex",
           "Annex I Only",
           "Annex II",
           "Non-Country",
           null,
           "Brazil",
           null,
           null,
           null,
           null,
           "Russian Federation",
           null,
           null,
           null,
           null,
           "Belgium",
           null,
           "Canada",
           "China",
           null,
           null,
           null,
           null,
           "France",
           null,
           null,
           null,
           null,
           "Japan",
           null,
           null,
           "Malaysia",
           null,
           null,
           null,
           null,
           null,
           null,
           null,
           "Thailand",
           "United Arab Emirates",
           null,
           "United States of America",
           null,
           "United Kingdom",
           null,
           null,
           null,
           null,
           "Parties",
           "Party overflow",
           "United Nations",
           "NGO Environmental",
           "BINGO",
           "RINGO",
           "Host",
           null,
           "Brazil  ",
           null,
           null,
           null,
           null,
           "Russian Federation  ",
           null,
           null,
           null,
           null,
           null,
           null,
           "Canada  ",
           "China  ",
           null,
           null,
           null,
           null,
           "France  ",
           null,
           null,
           null,
           null,
           null,
           null,
           null,
           "Malaysia  ",
           null,
           null,
           null,
           null,
           null,
           null,
           null,
           "Thailand  ",
           null,
           null,
           null,
           null,
           null,
           null,
           null,
           null,
           null,
           null,
           null,
           null,
           null,
           null,
           null,
           null,
           null,
           null,
           null,
           null,
           null,
           null,
           null,
           null,
           "ICC",
           null,
           null,
           null,
           null,
           null,
           null,
           null,
           null,
           null,
           null,
           null,
           null,
           null,
           null,
           null,
           "Host country guests",
           null,
           null,
           "Petrobras",
           null,
           "TAQA",
           "Shell",
           null,
           "Lukoil",
           "Gazprom",
           null,
           "EDF",
           null,
           "BP",
           null,
           null,
           null,
           null,
           null,
           null,
           null,
           null,
           null,
           null,
           "Sinopec",
           null,
           null,
           null,
           "ExxonMobil",
           null,
           null,
           null,
           "TotalEnergies",
           null,
           null,
           null,
           null,
           "Petronas Gas",
           null,
           "Equinor",
           null,
           null,
           null,
           null,
           null,
           "PTT",
           null,
           null,
           null,
           null,
           null,
           null,
           null,
           null,
           null,
           "ADNOC",
           null
          ],
          "line": {
           "color": "black",
           "width": 0
          },
          "pad": 20,
          "thickness": 30
         },
         "type": "sankey"
        }
       ],
       "layout": {
        "annotations": [
         {
          "font": {
           "color": "black",
           "size": 12
          },
          "showarrow": false,
          "text": "Oil and gas companies at COP28 (380 Delegates)",
          "textangle": 0,
          "x": 0,
          "xanchor": "left",
          "y": 0.95
         },
         {
          "font": {
           "color": "black",
           "size": 12
          },
          "showarrow": false,
          "text": "Country Annex",
          "textangle": 0,
          "x": 0,
          "xanchor": "left",
          "y": -0.05
         },
         {
          "font": {
           "color": "black",
           "size": 12
          },
          "showarrow": false,
          "text": "Nominator Country",
          "textangle": 0,
          "x": 0.26,
          "xanchor": "center",
          "y": -0.05
         },
         {
          "font": {
           "color": "black",
           "size": 12
          },
          "showarrow": false,
          "text": "Nominator Organisation",
          "textangle": 0,
          "x": 0.74,
          "xanchor": "center",
          "y": -0.05
         },
         {
          "font": {
           "color": "black",
           "size": 12
          },
          "showarrow": false,
          "text": "Badge Type",
          "textangle": 0,
          "x": 0.5,
          "xanchor": "center",
          "y": -0.05
         },
         {
          "font": {
           "color": "black",
           "size": 12
          },
          "showarrow": false,
          "text": "Company",
          "textangle": 0,
          "x": 1,
          "xanchor": "right",
          "y": -0.05
         },
         {
          "font": {
           "color": "black",
           "size": 9
          },
          "showarrow": false,
          "text": "(Russia)",
          "textangle": 0,
          "x": 1,
          "xanchor": "left",
          "y": 0.85
         },
         {
          "font": {
           "color": "black",
           "size": 9
          },
          "showarrow": false,
          "text": "(Russia)",
          "textangle": 0,
          "x": 1,
          "xanchor": "left",
          "y": 0.805
         },
         {
          "font": {
           "color": "black",
           "size": 9
          },
          "showarrow": false,
          "text": "(UAE)",
          "textangle": 0,
          "x": 1,
          "xanchor": "left",
          "y": 0.74
         },
         {
          "font": {
           "color": "black",
           "size": 9
          },
          "showarrow": false,
          "text": "(Brazil)",
          "textangle": 0,
          "x": 1,
          "xanchor": "left",
          "y": 0.703
         },
         {
          "font": {
           "color": "black",
           "size": 9
          },
          "showarrow": false,
          "text": "(UAE)",
          "textangle": 0,
          "x": 1,
          "xanchor": "left",
          "y": 0.68
         },
         {
          "font": {
           "color": "black",
           "size": 9
          },
          "showarrow": false,
          "text": "(Malaysia)",
          "textangle": 0,
          "x": 1,
          "xanchor": "left",
          "y": 0.59
         },
         {
          "font": {
           "color": "black",
           "size": 9
          },
          "showarrow": false,
          "text": "(Thailand)",
          "textangle": 0,
          "x": 1,
          "xanchor": "left",
          "y": 0.558
         },
         {
          "font": {
           "color": "black",
           "size": 9
          },
          "showarrow": false,
          "text": "(France)",
          "textangle": 0,
          "x": 1,
          "xanchor": "left",
          "y": 0.505
         },
         {
          "font": {
           "color": "black",
           "size": 9
          },
          "showarrow": false,
          "text": "(China)",
          "textangle": 0,
          "x": 1,
          "xanchor": "left",
          "y": 0.355
         }
        ],
        "font": {
         "size": 10
        },
        "height": 600,
        "margin": {
         "b": 40,
         "l": 10,
         "r": 50,
         "t": 10
        },
        "template": {
         "data": {
          "bar": [
           {
            "error_x": {
             "color": "#2a3f5f"
            },
            "error_y": {
             "color": "#2a3f5f"
            },
            "marker": {
             "line": {
              "color": "#E5ECF6",
              "width": 0.5
             },
             "pattern": {
              "fillmode": "overlay",
              "size": 10,
              "solidity": 0.2
             }
            },
            "type": "bar"
           }
          ],
          "barpolar": [
           {
            "marker": {
             "line": {
              "color": "#E5ECF6",
              "width": 0.5
             },
             "pattern": {
              "fillmode": "overlay",
              "size": 10,
              "solidity": 0.2
             }
            },
            "type": "barpolar"
           }
          ],
          "carpet": [
           {
            "aaxis": {
             "endlinecolor": "#2a3f5f",
             "gridcolor": "white",
             "linecolor": "white",
             "minorgridcolor": "white",
             "startlinecolor": "#2a3f5f"
            },
            "baxis": {
             "endlinecolor": "#2a3f5f",
             "gridcolor": "white",
             "linecolor": "white",
             "minorgridcolor": "white",
             "startlinecolor": "#2a3f5f"
            },
            "type": "carpet"
           }
          ],
          "choropleth": [
           {
            "colorbar": {
             "outlinewidth": 0,
             "ticks": ""
            },
            "type": "choropleth"
           }
          ],
          "contour": [
           {
            "colorbar": {
             "outlinewidth": 0,
             "ticks": ""
            },
            "colorscale": [
             [
              0,
              "#0d0887"
             ],
             [
              0.1111111111111111,
              "#46039f"
             ],
             [
              0.2222222222222222,
              "#7201a8"
             ],
             [
              0.3333333333333333,
              "#9c179e"
             ],
             [
              0.4444444444444444,
              "#bd3786"
             ],
             [
              0.5555555555555556,
              "#d8576b"
             ],
             [
              0.6666666666666666,
              "#ed7953"
             ],
             [
              0.7777777777777778,
              "#fb9f3a"
             ],
             [
              0.8888888888888888,
              "#fdca26"
             ],
             [
              1,
              "#f0f921"
             ]
            ],
            "type": "contour"
           }
          ],
          "contourcarpet": [
           {
            "colorbar": {
             "outlinewidth": 0,
             "ticks": ""
            },
            "type": "contourcarpet"
           }
          ],
          "heatmap": [
           {
            "colorbar": {
             "outlinewidth": 0,
             "ticks": ""
            },
            "colorscale": [
             [
              0,
              "#0d0887"
             ],
             [
              0.1111111111111111,
              "#46039f"
             ],
             [
              0.2222222222222222,
              "#7201a8"
             ],
             [
              0.3333333333333333,
              "#9c179e"
             ],
             [
              0.4444444444444444,
              "#bd3786"
             ],
             [
              0.5555555555555556,
              "#d8576b"
             ],
             [
              0.6666666666666666,
              "#ed7953"
             ],
             [
              0.7777777777777778,
              "#fb9f3a"
             ],
             [
              0.8888888888888888,
              "#fdca26"
             ],
             [
              1,
              "#f0f921"
             ]
            ],
            "type": "heatmap"
           }
          ],
          "heatmapgl": [
           {
            "colorbar": {
             "outlinewidth": 0,
             "ticks": ""
            },
            "colorscale": [
             [
              0,
              "#0d0887"
             ],
             [
              0.1111111111111111,
              "#46039f"
             ],
             [
              0.2222222222222222,
              "#7201a8"
             ],
             [
              0.3333333333333333,
              "#9c179e"
             ],
             [
              0.4444444444444444,
              "#bd3786"
             ],
             [
              0.5555555555555556,
              "#d8576b"
             ],
             [
              0.6666666666666666,
              "#ed7953"
             ],
             [
              0.7777777777777778,
              "#fb9f3a"
             ],
             [
              0.8888888888888888,
              "#fdca26"
             ],
             [
              1,
              "#f0f921"
             ]
            ],
            "type": "heatmapgl"
           }
          ],
          "histogram": [
           {
            "marker": {
             "pattern": {
              "fillmode": "overlay",
              "size": 10,
              "solidity": 0.2
             }
            },
            "type": "histogram"
           }
          ],
          "histogram2d": [
           {
            "colorbar": {
             "outlinewidth": 0,
             "ticks": ""
            },
            "colorscale": [
             [
              0,
              "#0d0887"
             ],
             [
              0.1111111111111111,
              "#46039f"
             ],
             [
              0.2222222222222222,
              "#7201a8"
             ],
             [
              0.3333333333333333,
              "#9c179e"
             ],
             [
              0.4444444444444444,
              "#bd3786"
             ],
             [
              0.5555555555555556,
              "#d8576b"
             ],
             [
              0.6666666666666666,
              "#ed7953"
             ],
             [
              0.7777777777777778,
              "#fb9f3a"
             ],
             [
              0.8888888888888888,
              "#fdca26"
             ],
             [
              1,
              "#f0f921"
             ]
            ],
            "type": "histogram2d"
           }
          ],
          "histogram2dcontour": [
           {
            "colorbar": {
             "outlinewidth": 0,
             "ticks": ""
            },
            "colorscale": [
             [
              0,
              "#0d0887"
             ],
             [
              0.1111111111111111,
              "#46039f"
             ],
             [
              0.2222222222222222,
              "#7201a8"
             ],
             [
              0.3333333333333333,
              "#9c179e"
             ],
             [
              0.4444444444444444,
              "#bd3786"
             ],
             [
              0.5555555555555556,
              "#d8576b"
             ],
             [
              0.6666666666666666,
              "#ed7953"
             ],
             [
              0.7777777777777778,
              "#fb9f3a"
             ],
             [
              0.8888888888888888,
              "#fdca26"
             ],
             [
              1,
              "#f0f921"
             ]
            ],
            "type": "histogram2dcontour"
           }
          ],
          "mesh3d": [
           {
            "colorbar": {
             "outlinewidth": 0,
             "ticks": ""
            },
            "type": "mesh3d"
           }
          ],
          "parcoords": [
           {
            "line": {
             "colorbar": {
              "outlinewidth": 0,
              "ticks": ""
             }
            },
            "type": "parcoords"
           }
          ],
          "pie": [
           {
            "automargin": true,
            "type": "pie"
           }
          ],
          "scatter": [
           {
            "fillpattern": {
             "fillmode": "overlay",
             "size": 10,
             "solidity": 0.2
            },
            "type": "scatter"
           }
          ],
          "scatter3d": [
           {
            "line": {
             "colorbar": {
              "outlinewidth": 0,
              "ticks": ""
             }
            },
            "marker": {
             "colorbar": {
              "outlinewidth": 0,
              "ticks": ""
             }
            },
            "type": "scatter3d"
           }
          ],
          "scattercarpet": [
           {
            "marker": {
             "colorbar": {
              "outlinewidth": 0,
              "ticks": ""
             }
            },
            "type": "scattercarpet"
           }
          ],
          "scattergeo": [
           {
            "marker": {
             "colorbar": {
              "outlinewidth": 0,
              "ticks": ""
             }
            },
            "type": "scattergeo"
           }
          ],
          "scattergl": [
           {
            "marker": {
             "colorbar": {
              "outlinewidth": 0,
              "ticks": ""
             }
            },
            "type": "scattergl"
           }
          ],
          "scattermapbox": [
           {
            "marker": {
             "colorbar": {
              "outlinewidth": 0,
              "ticks": ""
             }
            },
            "type": "scattermapbox"
           }
          ],
          "scatterpolar": [
           {
            "marker": {
             "colorbar": {
              "outlinewidth": 0,
              "ticks": ""
             }
            },
            "type": "scatterpolar"
           }
          ],
          "scatterpolargl": [
           {
            "marker": {
             "colorbar": {
              "outlinewidth": 0,
              "ticks": ""
             }
            },
            "type": "scatterpolargl"
           }
          ],
          "scatterternary": [
           {
            "marker": {
             "colorbar": {
              "outlinewidth": 0,
              "ticks": ""
             }
            },
            "type": "scatterternary"
           }
          ],
          "surface": [
           {
            "colorbar": {
             "outlinewidth": 0,
             "ticks": ""
            },
            "colorscale": [
             [
              0,
              "#0d0887"
             ],
             [
              0.1111111111111111,
              "#46039f"
             ],
             [
              0.2222222222222222,
              "#7201a8"
             ],
             [
              0.3333333333333333,
              "#9c179e"
             ],
             [
              0.4444444444444444,
              "#bd3786"
             ],
             [
              0.5555555555555556,
              "#d8576b"
             ],
             [
              0.6666666666666666,
              "#ed7953"
             ],
             [
              0.7777777777777778,
              "#fb9f3a"
             ],
             [
              0.8888888888888888,
              "#fdca26"
             ],
             [
              1,
              "#f0f921"
             ]
            ],
            "type": "surface"
           }
          ],
          "table": [
           {
            "cells": {
             "fill": {
              "color": "#EBF0F8"
             },
             "line": {
              "color": "white"
             }
            },
            "header": {
             "fill": {
              "color": "#C8D4E3"
             },
             "line": {
              "color": "white"
             }
            },
            "type": "table"
           }
          ]
         },
         "layout": {
          "annotationdefaults": {
           "arrowcolor": "#2a3f5f",
           "arrowhead": 0,
           "arrowwidth": 1
          },
          "autotypenumbers": "strict",
          "coloraxis": {
           "colorbar": {
            "outlinewidth": 0,
            "ticks": ""
           }
          },
          "colorscale": {
           "diverging": [
            [
             0,
             "#8e0152"
            ],
            [
             0.1,
             "#c51b7d"
            ],
            [
             0.2,
             "#de77ae"
            ],
            [
             0.3,
             "#f1b6da"
            ],
            [
             0.4,
             "#fde0ef"
            ],
            [
             0.5,
             "#f7f7f7"
            ],
            [
             0.6,
             "#e6f5d0"
            ],
            [
             0.7,
             "#b8e186"
            ],
            [
             0.8,
             "#7fbc41"
            ],
            [
             0.9,
             "#4d9221"
            ],
            [
             1,
             "#276419"
            ]
           ],
           "sequential": [
            [
             0,
             "#0d0887"
            ],
            [
             0.1111111111111111,
             "#46039f"
            ],
            [
             0.2222222222222222,
             "#7201a8"
            ],
            [
             0.3333333333333333,
             "#9c179e"
            ],
            [
             0.4444444444444444,
             "#bd3786"
            ],
            [
             0.5555555555555556,
             "#d8576b"
            ],
            [
             0.6666666666666666,
             "#ed7953"
            ],
            [
             0.7777777777777778,
             "#fb9f3a"
            ],
            [
             0.8888888888888888,
             "#fdca26"
            ],
            [
             1,
             "#f0f921"
            ]
           ],
           "sequentialminus": [
            [
             0,
             "#0d0887"
            ],
            [
             0.1111111111111111,
             "#46039f"
            ],
            [
             0.2222222222222222,
             "#7201a8"
            ],
            [
             0.3333333333333333,
             "#9c179e"
            ],
            [
             0.4444444444444444,
             "#bd3786"
            ],
            [
             0.5555555555555556,
             "#d8576b"
            ],
            [
             0.6666666666666666,
             "#ed7953"
            ],
            [
             0.7777777777777778,
             "#fb9f3a"
            ],
            [
             0.8888888888888888,
             "#fdca26"
            ],
            [
             1,
             "#f0f921"
            ]
           ]
          },
          "colorway": [
           "#636efa",
           "#EF553B",
           "#00cc96",
           "#ab63fa",
           "#FFA15A",
           "#19d3f3",
           "#FF6692",
           "#B6E880",
           "#FF97FF",
           "#FECB52"
          ],
          "font": {
           "color": "#2a3f5f"
          },
          "geo": {
           "bgcolor": "white",
           "lakecolor": "white",
           "landcolor": "#E5ECF6",
           "showlakes": true,
           "showland": true,
           "subunitcolor": "white"
          },
          "hoverlabel": {
           "align": "left"
          },
          "hovermode": "closest",
          "mapbox": {
           "style": "light"
          },
          "paper_bgcolor": "white",
          "plot_bgcolor": "#E5ECF6",
          "polar": {
           "angularaxis": {
            "gridcolor": "white",
            "linecolor": "white",
            "ticks": ""
           },
           "bgcolor": "#E5ECF6",
           "radialaxis": {
            "gridcolor": "white",
            "linecolor": "white",
            "ticks": ""
           }
          },
          "scene": {
           "xaxis": {
            "backgroundcolor": "#E5ECF6",
            "gridcolor": "white",
            "gridwidth": 2,
            "linecolor": "white",
            "showbackground": true,
            "ticks": "",
            "zerolinecolor": "white"
           },
           "yaxis": {
            "backgroundcolor": "#E5ECF6",
            "gridcolor": "white",
            "gridwidth": 2,
            "linecolor": "white",
            "showbackground": true,
            "ticks": "",
            "zerolinecolor": "white"
           },
           "zaxis": {
            "backgroundcolor": "#E5ECF6",
            "gridcolor": "white",
            "gridwidth": 2,
            "linecolor": "white",
            "showbackground": true,
            "ticks": "",
            "zerolinecolor": "white"
           }
          },
          "shapedefaults": {
           "line": {
            "color": "#2a3f5f"
           }
          },
          "ternary": {
           "aaxis": {
            "gridcolor": "white",
            "linecolor": "white",
            "ticks": ""
           },
           "baxis": {
            "gridcolor": "white",
            "linecolor": "white",
            "ticks": ""
           },
           "bgcolor": "#E5ECF6",
           "caxis": {
            "gridcolor": "white",
            "linecolor": "white",
            "ticks": ""
           }
          },
          "title": {
           "x": 0.05
          },
          "xaxis": {
           "automargin": true,
           "gridcolor": "white",
           "linecolor": "white",
           "ticks": "",
           "title": {
            "standoff": 15
           },
           "zerolinecolor": "white",
           "zerolinewidth": 2
          },
          "yaxis": {
           "automargin": true,
           "gridcolor": "white",
           "linecolor": "white",
           "ticks": "",
           "title": {
            "standoff": 15
           },
           "zerolinecolor": "white",
           "zerolinewidth": 2
          }
         }
        },
        "width": 680
       }
      },
      "image/png": "[encoded data removed]",
      "text/html": [
       "<div>                            <div id=\"051128b0-843a-4ea4-a6c0-f0d0da5cfa1f\" class=\"plotly-graph-div\" style=\"height:600px; width:680px;\"></div>            <script type=\"text/javascript\">                require([\"plotly\"], function(Plotly) {                    window.PLOTLYENV=window.PLOTLYENV || {};                                    if (document.getElementById(\"051128b0-843a-4ea4-a6c0-f0d0da5cfa1f\")) {                    Plotly.newPlot(                        \"051128b0-843a-4ea4-a6c0-f0d0da5cfa1f\",                        [{\"domain\":{\"y\":[0,1]},\"link\":{\"color\":[\"#fbf1f4\",\"#fbf1f4\",\"#fbf1f4\",\"#fbf1f4\",\"#fbf1f4\",\"#fbf1f4\",\"#fbf1f4\",\"#fbf1f4\",\"#fbf1f4\",\"#fbf1f4\",\"#fbf1f4\",\"#fbf1f4\",\"#fbf1f4\",\"#fbf1f4\",\"#fbf1f4\",\"#fbf1f4\",\"#fbf1f4\",\"#fbf1f4\",\"#f2e6f2\",\"#f2e6f2\",\"#f2e6f2\",\"#f2e6f2\",\"#f2e6f2\",\"#f2e6f2\",\"#f2e6f2\",\"#f2e6f2\",\"#f2e6f2\",\"#f2e6f2\",\"#f2e6f2\",\"#f2e6f2\",\"#f2e6f2\",\"#f2e6f2\",\"#f2e6f2\",\"#f2e6f2\",\"#f2e6f2\",\"#f2e6f2\",\"#f2e6f2\",\"#f2e6f2\",\"#f2e6f2\",\"#f2e6f2\",\"#f2e6f2\",\"#f2e6f2\",\"#f2e6f2\",\"#f2e6f2\",\"#f2f2f2\",\"#f2e6f2\",\"#fbf1f4\",\"#fbf1f4\",\"#fbf1f4\",\"#f2e6f2\",\"#f2e6f2\",\"#fbf1f4\",\"#f2e6f2\",\"#f2e6f2\",\"#f2e6f2\",\"#f2e6f2\",\"#fbf1f4\",\"#fbf1f4\",\"#fbf1f4\",\"#f2e6f2\",\"#f2e6f2\",\"#fbf1f4\",\"#fbf1f4\",\"#f2e6f2\",\"#f2e6f2\",\"#f2e6f2\",\"#fbf1f4\",\"#fbf1f4\",\"#f2e6f2\",\"#fbf1f4\",\"#f2e6f2\",\"#f2e6f2\",\"#f2e6f2\",\"#f2e6f2\",\"#f2e6f2\",\"#fbf1f4\",\"#f2e6f2\",\"#fbf1f4\",\"#fbf1f4\",\"#f2e6f2\",\"#fbf1f4\",\"#fbf1f4\",\"#fbf1f4\",\"#fbf1f4\",\"#fbf1f4\",\"#f2e6f2\",\"#fbf1f4\",\"#fbf1f4\",\"#fbf1f4\",\"#f2e6f2\",\"#f2e6f2\",\"#f2e6f2\",\"#f2e6f2\",\"#f2e6f2\",\"#fbf1f4\",\"#fbf1f4\",\"#f2e6f2\",\"#f2e6f2\",\"#fbf1f4\",\"#f2e6f2\",\"#f2e6f2\",\"#f2e6f2\",\"#fbf1f4\",\"#fbf1f4\",\"#f2f2f2\",\"#f2e6f2\",\"#e6e6f2\",\"#e6e6f2\",\"#e6e6f2\",\"#e6e6f2\",\"#e6e6f2\",\"#e6e6f2\",\"#e6e6f2\",\"#e6e6f2\",\"#e6e6f2\",\"#e6e6f2\",\"#e6e6f2\",\"#e6e6f2\",\"#e6e6f2\",\"#e6e6f2\",\"#e6e6f2\",\"#e6e6f2\",\"#e6e6f2\",\"#e6e6f2\",\"#e6e6f2\",\"#e6e6f2\",\"#e6e6f2\",\"#e6e6f2\",\"#e6e6f2\",\"#e6e6f2\",\"#e6e6f2\",\"#e9f4ff\",\"#e9f4ff\",\"#e9f4ff\",\"#e9f4ff\",\"#e9f4ff\",\"#e9f4ff\",\"#e9f4ff\",\"#e9f4ff\",\"#e9f4ff\",\"#e9f4ff\",\"#e9f4ff\",\"#e9f4ff\",\"#f2e6f2\",\"#f2e6f2\",\"#f2e6f2\",\"#f2e6f2\",\"#f2e6f2\",\"#f2e6f2\",\"#f2e6f2\",\"#f2e6f2\",\"#fbf1f4\",\"#fbf1f4\",\"#f2e6f2\",\"#f2e6f2\",\"#fbf1f4\",\"#fbf1f4\",\"#fbf1f4\",\"#f2e6f2\",\"#fbf1f4\",\"#f2e6f2\",\"#f2e6f2\",\"#f2e6f2\",\"#f2e6f2\",\"#fbf1f4\",\"#fbf1f4\",\"#fbf1f4\",\"#f2e6f2\",\"#f2e6f2\",\"#fbf1f4\",\"#fbf1f4\",\"#f2e6f2\",\"#f2e6f2\",\"#f2e6f2\",\"#fbf1f4\",\"#fbf1f4\",\"#f2e6f2\",\"#fbf1f4\",\"#f2e6f2\",\"#f2e6f2\",\"#f2e6f2\",\"#f2e6f2\",\"#f2e6f2\",\"#f2f2f2\",\"#f2f2f2\",\"#e9f4ff\",\"#f2e6f2\",\"#e9f4ff\",\"#f2e6f2\",\"#e9f4ff\",\"#f2e6f2\",\"#f2e6f2\",\"#fbf1f4\",\"#fbf1f4\",\"#f2e6f2\",\"#e6e6f2\",\"#e6e6f2\",\"#e6e6f2\",\"#e9f4ff\",\"#e6e6f2\",\"#f2e6f2\",\"#e6e6f2\",\"#e6e6f2\",\"#e6e6f2\",\"#fbf1f4\",\"#e6e6f2\",\"#e6e6f2\",\"#f2e6f2\",\"#fbf1f4\",\"#e9f4ff\",\"#e6e6f2\",\"#e6e6f2\",\"#f2e6f2\",\"#f2e6f2\",\"#e6e6f2\",\"#e6e6f2\",\"#e6e6f2\",\"#e6e6f2\",\"#fbf1f4\",\"#f2e6f2\",\"#e6e6f2\",\"#f2e6f2\",\"#e6e6f2\",\"#e6e6f2\",\"#f2f2f2\",\"#fbf1f4\",\"#fbf1f4\",\"#f2e6f2\",\"#f2e6f2\",\"#f2e6f2\",\"#f2e6f2\",\"#e6e6f2\",\"#f2e6f2\",\"#f2e6f2\",\"#e6e6f2\",\"#e6e6f2\",\"#e6e6f2\",\"#e6e6f2\",\"#fbf1f4\",\"#e6e6f2\",\"#e9f4ff\",\"#f2e6f2\",\"#f2e6f2\",\"#e6e6f2\",\"#e6e6f2\",\"#e6e6f2\",\"#e6e6f2\",\"#e6e6f2\",\"#e6e6f2\",\"#f2e6f2\",\"#e6e6f2\",\"#e6e6f2\",\"#f2e6f2\",\"#f2e6f2\",\"#e9f4ff\",\"#e6e6f2\",\"#fbf1f4\",\"#fbf1f4\",\"#fbf1f4\",\"#fbf1f4\",\"#fbf1f4\",\"#fbf1f4\",\"#fbf1f4\",\"#e6e6f2\",\"#fbf1f4\",\"#e6e6f2\",\"#fbf1f4\",\"#e6e6f2\",\"#fbf1f4\",\"#e6e6f2\",\"#e6e6f2\",\"#f2e6f2\",\"#f2e6f2\",\"#f2e6f2\",\"#f2e6f2\",\"#f2e6f2\",\"#f2e6f2\",\"#f2e6f2\",\"#f2e6f2\",\"#f2e6f2\",\"#f2f2f2\",\"#e6e6f2\",\"#f2e6f2\",\"#e9f4ff\",\"#f2e6f2\",\"#fbf1f4\",\"#fbf1f4\",\"#e9f4ff\",\"#f2e6f2\",\"#e6e6f2\",\"#e6e6f2\",\"#f2e6f2\",\"#f2e6f2\",\"#f2e6f2\",\"#e6e6f2\",\"#e6e6f2\",\"#fbf1f4\",\"#e6e6f2\",\"#f2e6f2\",\"#e6e6f2\",\"#fbf1f4\",\"#e9f4ff\",\"#fbf1f4\",\"#f2e6f2\",\"#f2e6f2\",\"#fbf1f4\",\"#f2e6f2\",\"#f2e6f2\",\"#e9f4ff\",\"#e6e6f2\",\"#f2e6f2\",\"#e6e6f2\",\"#fbf1f4\",\"#e6e6f2\",\"#fbf1f4\",\"#e9f4ff\",\"#fbf1f4\",\"#f2e6f2\",\"#f2e6f2\",\"#fbf1f4\",\"#fbf1f4\",\"#fbf1f4\",\"#f2e6f2\",\"#e6e6f2\"],\"source\":[1,1,1,2,2,2,2,2,2,2,2,2,2,2,2,2,2,2,0,0,0,0,0,0,0,0,0,0,0,0,0,0,0,0,0,0,0,0,0,0,0,0,0,0,3,12,13,14,15,16,5,17,18,19,20,21,22,23,24,25,26,27,28,29,30,31,32,33,34,35,36,37,38,39,40,15,5,17,23,47,28,45,48,44,42,43,15,28,42,4,5,6,7,8,9,10,11,5,17,18,8,46,44,42,41,40,53,53,53,53,53,53,53,53,53,53,53,53,53,53,53,53,53,53,53,53,53,53,53,53,53,52,52,52,52,52,52,52,52,54,54,54,54,55,55,49,49,50,49,49,49,49,49,49,50,50,50,50,50,50,50,50,50,50,50,50,50,50,50,50,50,50,50,50,50,50,50,50,50,50,50,50,50,51,51,94,78,95,70,96,132,64,69,75,132,97,120,116,122,97,57,98,106,108,75,120,118,81,65,101,102,103,73,132,120,118,126,130,66,132,99,56,110,111,131,79,67,68,72,58,90,100,132,83,102,103,120,118,85,102,112,73,132,120,116,117,129,127,102,132,116,118,60,86,124,126,69,69,69,69,69,69,69,105,69,103,85,103,75,104,110,77,70,70,71,71,133,132,59,92,93,107,132,109,72,75,76,115,132,116,118,82,63,73,120,116,79,113,132,119,74,114,76,132,132,62,132,132,128,116,89,118,80,121,84,123,87,88,88,61,62,62,91,125],\"target\":[35,9,10,13,14,15,17,22,23,24,27,28,32,33,45,48,44,42,12,16,4,5,18,19,20,21,25,47,26,6,29,30,31,7,8,34,46,36,37,38,39,11,40,43,41,50,50,50,50,50,50,50,50,50,50,50,50,50,50,50,50,50,50,50,50,50,50,50,50,50,50,50,50,50,50,53,53,53,53,53,53,53,53,53,53,53,54,54,54,49,49,49,49,49,49,49,49,52,52,52,52,52,52,52,51,55,97,98,99,100,102,103,104,105,106,107,108,110,111,113,120,116,117,118,119,121,125,126,129,127,130,94,95,96,109,115,122,123,124,101,112,114,128,133,132,56,57,57,58,59,60,61,62,63,64,65,66,67,68,69,70,71,72,73,74,75,76,77,78,79,80,81,82,83,84,85,86,87,88,89,90,91,92,131,93,167,167,156,156,178,178,144,144,144,144,179,179,179,179,135,135,164,164,164,164,164,164,164,145,145,145,145,145,145,145,145,145,145,146,146,134,134,134,134,134,134,147,136,136,136,136,169,169,169,171,171,171,171,171,160,160,160,160,160,160,160,160,160,138,138,138,138,138,138,138,138,153,149,148,151,150,154,155,155,152,172,172,163,163,166,166,166,157,158,159,137,137,137,137,137,137,180,180,143,143,143,143,143,143,143,143,143,143,161,161,161,161,181,181,181,162,182,165,187,140,140,188,186,186,176,176,183,168,168,170,184,173,175,174,139,141,142,177,185],\"value\":[2,2,28,1,1,17,17,5,32,4,5,10,1,7,1,7,29,12,1,1,1,12,13,4,2,4,1,1,1,1,1,1,23,8,3,1,1,2,5,3,26,2,75,3,3,1,1,1,6,1,2,15,11,4,2,4,5,20,4,1,1,5,1,1,1,23,1,7,1,2,2,5,3,26,8,7,1,1,12,1,7,1,7,25,9,3,4,2,1,1,8,1,8,1,2,28,2,1,1,2,2,1,4,2,3,67,3,1,1,1,5,5,1,1,1,1,1,2,1,1,9,10,2,7,6,7,1,3,1,2,1,1,1,2,1,1,2,1,4,1,3,1,2,1,66,1,8,2,1,8,1,2,28,2,1,1,1,6,1,15,11,4,2,4,5,20,4,1,1,5,1,1,1,23,1,7,1,2,2,5,3,26,8,2,1,1,1,1,9,2,1,1,2,1,3,1,1,2,2,2,10,1,1,1,6,1,1,1,1,1,1,1,1,3,1,1,2,1,1,3,1,1,1,1,2,1,6,1,1,1,3,1,1,23,2,2,2,2,4,1,3,1,4,3,1,2,1,2,1,3,4,1,1,1,4,1,2,1,3,1,1,2,1,1,2,1,3,1,3,1,1,1,1,1,3,1,1,23,8,8,1,1,1,1,1,10,1,1,1,1,1,1,2,2,1,1,4,1,1,6,5,1,3,14,3,7,3,2,2,1,5,1,1,7,1,1,2,1,1,2,18,3,26,1]},\"node\":{\"color\":[\"purple\",\"palevioletred\",\"palevioletred\",\"gray\",\"purple\",\"purple\",\"purple\",\"purple\",\"purple\",\"palevioletred\",\"palevioletred\",\"purple\",\"purple\",\"palevioletred\",\"palevioletred\",\"palevioletred\",\"purple\",\"palevioletred\",\"purple\",\"purple\",\"purple\",\"purple\",\"palevioletred\",\"palevioletred\",\"palevioletred\",\"purple\",\"purple\",\"palevioletred\",\"palevioletred\",\"purple\",\"purple\",\"purple\",\"palevioletred\",\"palevioletred\",\"purple\",\"palevioletred\",\"purple\",\"purple\",\"purple\",\"purple\",\"purple\",\"gray\",\"palevioletred\",\"purple\",\"palevioletred\",\"palevioletred\",\"purple\",\"purple\",\"palevioletred\",\"gray\",\"gray\",\"gray\",\"dodgerblue\",\"navy\",\"dodgerblue\",\"gray\",\"purple\",\"purple\",\"purple\",\"purple\",\"purple\",\"palevioletred\",\"palevioletred\",\"purple\",\"purple\",\"palevioletred\",\"palevioletred\",\"palevioletred\",\"purple\",\"palevioletred\",\"purple\",\"purple\",\"purple\",\"purple\",\"palevioletred\",\"palevioletred\",\"palevioletred\",\"purple\",\"purple\",\"palevioletred\",\"palevioletred\",\"purple\",\"purple\",\"purple\",\"palevioletred\",\"palevioletred\",\"purple\",\"palevioletred\",\"purple\",\"purple\",\"purple\",\"purple\",\"purple\",\"gray\",\"dodgerblue\",\"dodgerblue\",\"dodgerblue\",\"navy\",\"navy\",\"navy\",\"navy\",\"dodgerblue\",\"navy\",\"navy\",\"navy\",\"navy\",\"navy\",\"navy\",\"navy\",\"dodgerblue\",\"navy\",\"navy\",\"dodgerblue\",\"navy\",\"dodgerblue\",\"dodgerblue\",\"navy\",\"navy\",\"navy\",\"navy\",\"navy\",\"navy\",\"dodgerblue\",\"dodgerblue\",\"dodgerblue\",\"navy\",\"navy\",\"navy\",\"dodgerblue\",\"navy\",\"navy\",\"gray\",\"purple\",\"purple\",\"gray\",\"gray\",\"gray\",\"gray\",\"gray\",\"gray\",\"gray\",\"gray\",\"gray\",\"gray\",\"gray\",\"gray\",\"gray\",\"gray\",\"gray\",\"gray\",\"gray\",\"gray\",\"gray\",\"gray\",\"gray\",\"gray\",\"gray\",\"gray\",\"gray\",\"gray\",\"gray\",\"gray\",\"gray\",\"gray\",\"gray\",\"gray\",\"gray\",\"gray\",\"gray\",\"gray\",\"gray\",\"gray\",\"gray\",\"gray\",\"gray\",\"gray\",\"gray\",\"gray\",\"gray\",\"gray\",\"gray\",\"gray\",\"gray\",\"gray\",\"gray\",\"gray\",\"gray\",\"gray\",\"gray\"],\"label\":[\"Non-Annex\",\"Annex I Only\",\"Annex II\",\"Non-Country\",null,\"Brazil\",null,null,null,null,\"Russian Federation\",null,null,null,null,\"Belgium\",null,\"Canada\",\"China\",null,null,null,null,\"France\",null,null,null,null,\"Japan\",null,null,\"Malaysia\",null,null,null,null,null,null,null,\"Thailand\",\"United Arab Emirates\",null,\"United States of America\",null,\"United Kingdom\",null,null,null,null,\"Parties\",\"Party overflow\",\"United Nations\",\"NGO Environmental\",\"BINGO\",\"RINGO\",\"Host\",null,\"Brazil  \",null,null,null,null,\"Russian Federation  \",null,null,null,null,null,null,\"Canada  \",\"China  \",null,null,null,null,\"France  \",null,null,null,null,null,null,null,\"Malaysia  \",null,null,null,null,null,null,null,\"Thailand  \",null,null,null,null,null,null,null,null,null,null,null,null,null,null,null,null,null,null,null,null,null,null,null,null,\"ICC\",null,null,null,null,null,null,null,null,null,null,null,null,null,null,null,\"Host country guests\",null,null,\"Petrobras\",null,\"TAQA\",\"Shell\",null,\"Lukoil\",\"Gazprom\",null,\"EDF\",null,\"BP\",null,null,null,null,null,null,null,null,null,null,\"Sinopec\",null,null,null,\"ExxonMobil\",null,null,null,\"TotalEnergies\",null,null,null,null,\"Petronas Gas\",null,\"Equinor\",null,null,null,null,null,\"PTT\",null,null,null,null,null,null,null,null,null,\"ADNOC\",null],\"line\":{\"color\":\"black\",\"width\":0},\"pad\":20,\"thickness\":30},\"type\":\"sankey\"}],                        {\"font\":{\"size\":10},\"height\":600,\"margin\":{\"b\":40,\"l\":10,\"r\":50,\"t\":10},\"width\":680,\"template\":{\"data\":{\"histogram2dcontour\":[{\"type\":\"histogram2dcontour\",\"colorbar\":{\"outlinewidth\":0,\"ticks\":\"\"},\"colorscale\":[[0.0,\"#0d0887\"],[0.1111111111111111,\"#46039f\"],[0.2222222222222222,\"#7201a8\"],[0.3333333333333333,\"#9c179e\"],[0.4444444444444444,\"#bd3786\"],[0.5555555555555556,\"#d8576b\"],[0.6666666666666666,\"#ed7953\"],[0.7777777777777778,\"#fb9f3a\"],[0.8888888888888888,\"#fdca26\"],[1.0,\"#f0f921\"]]}],\"choropleth\":[{\"type\":\"choropleth\",\"colorbar\":{\"outlinewidth\":0,\"ticks\":\"\"}}],\"histogram2d\":[{\"type\":\"histogram2d\",\"colorbar\":{\"outlinewidth\":0,\"ticks\":\"\"},\"colorscale\":[[0.0,\"#0d0887\"],[0.1111111111111111,\"#46039f\"],[0.2222222222222222,\"#7201a8\"],[0.3333333333333333,\"#9c179e\"],[0.4444444444444444,\"#bd3786\"],[0.5555555555555556,\"#d8576b\"],[0.6666666666666666,\"#ed7953\"],[0.7777777777777778,\"#fb9f3a\"],[0.8888888888888888,\"#fdca26\"],[1.0,\"#f0f921\"]]}],\"heatmap\":[{\"type\":\"heatmap\",\"colorbar\":{\"outlinewidth\":0,\"ticks\":\"\"},\"colorscale\":[[0.0,\"#0d0887\"],[0.1111111111111111,\"#46039f\"],[0.2222222222222222,\"#7201a8\"],[0.3333333333333333,\"#9c179e\"],[0.4444444444444444,\"#bd3786\"],[0.5555555555555556,\"#d8576b\"],[0.6666666666666666,\"#ed7953\"],[0.7777777777777778,\"#fb9f3a\"],[0.8888888888888888,\"#fdca26\"],[1.0,\"#f0f921\"]]}],\"heatmapgl\":[{\"type\":\"heatmapgl\",\"colorbar\":{\"outlinewidth\":0,\"ticks\":\"\"},\"colorscale\":[[0.0,\"#0d0887\"],[0.1111111111111111,\"#46039f\"],[0.2222222222222222,\"#7201a8\"],[0.3333333333333333,\"#9c179e\"],[0.4444444444444444,\"#bd3786\"],[0.5555555555555556,\"#d8576b\"],[0.6666666666666666,\"#ed7953\"],[0.7777777777777778,\"#fb9f3a\"],[0.8888888888888888,\"#fdca26\"],[1.0,\"#f0f921\"]]}],\"contourcarpet\":[{\"type\":\"contourcarpet\",\"colorbar\":{\"outlinewidth\":0,\"ticks\":\"\"}}],\"contour\":[{\"type\":\"contour\",\"colorbar\":{\"outlinewidth\":0,\"ticks\":\"\"},\"colorscale\":[[0.0,\"#0d0887\"],[0.1111111111111111,\"#46039f\"],[0.2222222222222222,\"#7201a8\"],[0.3333333333333333,\"#9c179e\"],[0.4444444444444444,\"#bd3786\"],[0.5555555555555556,\"#d8576b\"],[0.6666666666666666,\"#ed7953\"],[0.7777777777777778,\"#fb9f3a\"],[0.8888888888888888,\"#fdca26\"],[1.0,\"#f0f921\"]]}],\"surface\":[{\"type\":\"surface\",\"colorbar\":{\"outlinewidth\":0,\"ticks\":\"\"},\"colorscale\":[[0.0,\"#0d0887\"],[0.1111111111111111,\"#46039f\"],[0.2222222222222222,\"#7201a8\"],[0.3333333333333333,\"#9c179e\"],[0.4444444444444444,\"#bd3786\"],[0.5555555555555556,\"#d8576b\"],[0.6666666666666666,\"#ed7953\"],[0.7777777777777778,\"#fb9f3a\"],[0.8888888888888888,\"#fdca26\"],[1.0,\"#f0f921\"]]}],\"mesh3d\":[{\"type\":\"mesh3d\",\"colorbar\":{\"outlinewidth\":0,\"ticks\":\"\"}}],\"scatter\":[{\"fillpattern\":{\"fillmode\":\"overlay\",\"size\":10,\"solidity\":0.2},\"type\":\"scatter\"}],\"parcoords\":[{\"type\":\"parcoords\",\"line\":{\"colorbar\":{\"outlinewidth\":0,\"ticks\":\"\"}}}],\"scatterpolargl\":[{\"type\":\"scatterpolargl\",\"marker\":{\"colorbar\":{\"outlinewidth\":0,\"ticks\":\"\"}}}],\"bar\":[{\"error_x\":{\"color\":\"#2a3f5f\"},\"error_y\":{\"color\":\"#2a3f5f\"},\"marker\":{\"line\":{\"color\":\"#E5ECF6\",\"width\":0.5},\"pattern\":{\"fillmode\":\"overlay\",\"size\":10,\"solidity\":0.2}},\"type\":\"bar\"}],\"scattergeo\":[{\"type\":\"scattergeo\",\"marker\":{\"colorbar\":{\"outlinewidth\":0,\"ticks\":\"\"}}}],\"scatterpolar\":[{\"type\":\"scatterpolar\",\"marker\":{\"colorbar\":{\"outlinewidth\":0,\"ticks\":\"\"}}}],\"histogram\":[{\"marker\":{\"pattern\":{\"fillmode\":\"overlay\",\"size\":10,\"solidity\":0.2}},\"type\":\"histogram\"}],\"scattergl\":[{\"type\":\"scattergl\",\"marker\":{\"colorbar\":{\"outlinewidth\":0,\"ticks\":\"\"}}}],\"scatter3d\":[{\"type\":\"scatter3d\",\"line\":{\"colorbar\":{\"outlinewidth\":0,\"ticks\":\"\"}},\"marker\":{\"colorbar\":{\"outlinewidth\":0,\"ticks\":\"\"}}}],\"scattermapbox\":[{\"type\":\"scattermapbox\",\"marker\":{\"colorbar\":{\"outlinewidth\":0,\"ticks\":\"\"}}}],\"scatterternary\":[{\"type\":\"scatterternary\",\"marker\":{\"colorbar\":{\"outlinewidth\":0,\"ticks\":\"\"}}}],\"scattercarpet\":[{\"type\":\"scattercarpet\",\"marker\":{\"colorbar\":{\"outlinewidth\":0,\"ticks\":\"\"}}}],\"carpet\":[{\"aaxis\":{\"endlinecolor\":\"#2a3f5f\",\"gridcolor\":\"white\",\"linecolor\":\"white\",\"minorgridcolor\":\"white\",\"startlinecolor\":\"#2a3f5f\"},\"baxis\":{\"endlinecolor\":\"#2a3f5f\",\"gridcolor\":\"white\",\"linecolor\":\"white\",\"minorgridcolor\":\"white\",\"startlinecolor\":\"#2a3f5f\"},\"type\":\"carpet\"}],\"table\":[{\"cells\":{\"fill\":{\"color\":\"#EBF0F8\"},\"line\":{\"color\":\"white\"}},\"header\":{\"fill\":{\"color\":\"#C8D4E3\"},\"line\":{\"color\":\"white\"}},\"type\":\"table\"}],\"barpolar\":[{\"marker\":{\"line\":{\"color\":\"#E5ECF6\",\"width\":0.5},\"pattern\":{\"fillmode\":\"overlay\",\"size\":10,\"solidity\":0.2}},\"type\":\"barpolar\"}],\"pie\":[{\"automargin\":true,\"type\":\"pie\"}]},\"layout\":{\"autotypenumbers\":\"strict\",\"colorway\":[\"#636efa\",\"#EF553B\",\"#00cc96\",\"#ab63fa\",\"#FFA15A\",\"#19d3f3\",\"#FF6692\",\"#B6E880\",\"#FF97FF\",\"#FECB52\"],\"font\":{\"color\":\"#2a3f5f\"},\"hovermode\":\"closest\",\"hoverlabel\":{\"align\":\"left\"},\"paper_bgcolor\":\"white\",\"plot_bgcolor\":\"#E5ECF6\",\"polar\":{\"bgcolor\":\"#E5ECF6\",\"angularaxis\":{\"gridcolor\":\"white\",\"linecolor\":\"white\",\"ticks\":\"\"},\"radialaxis\":{\"gridcolor\":\"white\",\"linecolor\":\"white\",\"ticks\":\"\"}},\"ternary\":{\"bgcolor\":\"#E5ECF6\",\"aaxis\":{\"gridcolor\":\"white\",\"linecolor\":\"white\",\"ticks\":\"\"},\"baxis\":{\"gridcolor\":\"white\",\"linecolor\":\"white\",\"ticks\":\"\"},\"caxis\":{\"gridcolor\":\"white\",\"linecolor\":\"white\",\"ticks\":\"\"}},\"coloraxis\":{\"colorbar\":{\"outlinewidth\":0,\"ticks\":\"\"}},\"colorscale\":{\"sequential\":[[0.0,\"#0d0887\"],[0.1111111111111111,\"#46039f\"],[0.2222222222222222,\"#7201a8\"],[0.3333333333333333,\"#9c179e\"],[0.4444444444444444,\"#bd3786\"],[0.5555555555555556,\"#d8576b\"],[0.6666666666666666,\"#ed7953\"],[0.7777777777777778,\"#fb9f3a\"],[0.8888888888888888,\"#fdca26\"],[1.0,\"#f0f921\"]],\"sequentialminus\":[[0.0,\"#0d0887\"],[0.1111111111111111,\"#46039f\"],[0.2222222222222222,\"#7201a8\"],[0.3333333333333333,\"#9c179e\"],[0.4444444444444444,\"#bd3786\"],[0.5555555555555556,\"#d8576b\"],[0.6666666666666666,\"#ed7953\"],[0.7777777777777778,\"#fb9f3a\"],[0.8888888888888888,\"#fdca26\"],[1.0,\"#f0f921\"]],\"diverging\":[[0,\"#8e0152\"],[0.1,\"#c51b7d\"],[0.2,\"#de77ae\"],[0.3,\"#f1b6da\"],[0.4,\"#fde0ef\"],[0.5,\"#f7f7f7\"],[0.6,\"#e6f5d0\"],[0.7,\"#b8e186\"],[0.8,\"#7fbc41\"],[0.9,\"#4d9221\"],[1,\"#276419\"]]},\"xaxis\":{\"gridcolor\":\"white\",\"linecolor\":\"white\",\"ticks\":\"\",\"title\":{\"standoff\":15},\"zerolinecolor\":\"white\",\"automargin\":true,\"zerolinewidth\":2},\"yaxis\":{\"gridcolor\":\"white\",\"linecolor\":\"white\",\"ticks\":\"\",\"title\":{\"standoff\":15},\"zerolinecolor\":\"white\",\"automargin\":true,\"zerolinewidth\":2},\"scene\":{\"xaxis\":{\"backgroundcolor\":\"#E5ECF6\",\"gridcolor\":\"white\",\"linecolor\":\"white\",\"showbackground\":true,\"ticks\":\"\",\"zerolinecolor\":\"white\",\"gridwidth\":2},\"yaxis\":{\"backgroundcolor\":\"#E5ECF6\",\"gridcolor\":\"white\",\"linecolor\":\"white\",\"showbackground\":true,\"ticks\":\"\",\"zerolinecolor\":\"white\",\"gridwidth\":2},\"zaxis\":{\"backgroundcolor\":\"#E5ECF6\",\"gridcolor\":\"white\",\"linecolor\":\"white\",\"showbackground\":true,\"ticks\":\"\",\"zerolinecolor\":\"white\",\"gridwidth\":2}},\"shapedefaults\":{\"line\":{\"color\":\"#2a3f5f\"}},\"annotationdefaults\":{\"arrowcolor\":\"#2a3f5f\",\"arrowhead\":0,\"arrowwidth\":1},\"geo\":{\"bgcolor\":\"white\",\"landcolor\":\"#E5ECF6\",\"subunitcolor\":\"white\",\"showland\":true,\"showlakes\":true,\"lakecolor\":\"white\"},\"title\":{\"x\":0.05},\"mapbox\":{\"style\":\"light\"}}},\"annotations\":[{\"font\":{\"color\":\"black\",\"size\":12},\"showarrow\":false,\"text\":\"Oil and gas companies at COP28 (380 Delegates)\",\"textangle\":0,\"x\":0,\"xanchor\":\"left\",\"y\":0.95},{\"font\":{\"color\":\"black\",\"size\":12},\"showarrow\":false,\"text\":\"Country Annex\",\"textangle\":0,\"x\":0,\"xanchor\":\"left\",\"y\":-0.05},{\"font\":{\"color\":\"black\",\"size\":12},\"showarrow\":false,\"text\":\"Nominator Country\",\"textangle\":0,\"x\":0.26,\"xanchor\":\"center\",\"y\":-0.05},{\"font\":{\"color\":\"black\",\"size\":12},\"showarrow\":false,\"text\":\"Nominator Organisation\",\"textangle\":0,\"x\":0.74,\"xanchor\":\"center\",\"y\":-0.05},{\"font\":{\"color\":\"black\",\"size\":12},\"showarrow\":false,\"text\":\"Badge Type\",\"textangle\":0,\"x\":0.5,\"xanchor\":\"center\",\"y\":-0.05},{\"font\":{\"color\":\"black\",\"size\":12},\"showarrow\":false,\"text\":\"Company\",\"textangle\":0,\"x\":1,\"xanchor\":\"right\",\"y\":-0.05},{\"font\":{\"color\":\"black\",\"size\":9},\"showarrow\":false,\"text\":\"(Russia)\",\"textangle\":0,\"x\":1,\"xanchor\":\"left\",\"y\":0.85},{\"font\":{\"color\":\"black\",\"size\":9},\"showarrow\":false,\"text\":\"(Russia)\",\"textangle\":0,\"x\":1,\"xanchor\":\"left\",\"y\":0.805},{\"font\":{\"color\":\"black\",\"size\":9},\"showarrow\":false,\"text\":\"(UAE)\",\"textangle\":0,\"x\":1,\"xanchor\":\"left\",\"y\":0.74},{\"font\":{\"color\":\"black\",\"size\":9},\"showarrow\":false,\"text\":\"(Brazil)\",\"textangle\":0,\"x\":1,\"xanchor\":\"left\",\"y\":0.703},{\"font\":{\"color\":\"black\",\"size\":9},\"showarrow\":false,\"text\":\"(UAE)\",\"textangle\":0,\"x\":1,\"xanchor\":\"left\",\"y\":0.68},{\"font\":{\"color\":\"black\",\"size\":9},\"showarrow\":false,\"text\":\"(Malaysia)\",\"textangle\":0,\"x\":1,\"xanchor\":\"left\",\"y\":0.59},{\"font\":{\"color\":\"black\",\"size\":9},\"showarrow\":false,\"text\":\"(Thailand)\",\"textangle\":0,\"x\":1,\"xanchor\":\"left\",\"y\":0.558},{\"font\":{\"color\":\"black\",\"size\":9},\"showarrow\":false,\"text\":\"(France)\",\"textangle\":0,\"x\":1,\"xanchor\":\"left\",\"y\":0.505},{\"font\":{\"color\":\"black\",\"size\":9},\"showarrow\":false,\"text\":\"(China)\",\"textangle\":0,\"x\":1,\"xanchor\":\"left\",\"y\":0.355}]},                        {\"responsive\": true}                    ).then(function(){\n",
       "                            \n",
       "var gd = document.getElementById('051128b0-843a-4ea4-a6c0-f0d0da5cfa1f');\n",
       "var x = new MutationObserver(function (mutations, observer) {{\n",
       "        var display = window.getComputedStyle(gd).display;\n",
       "        if (!display || display === 'none') {{\n",
       "            console.log([gd, 'removed!']);\n",
       "            Plotly.purge(gd);\n",
       "            observer.disconnect();\n",
       "        }}\n",
       "}});\n",
       "\n",
       "// Listen for the removal of the full notebook cells\n",
       "var notebookContainer = gd.closest('#notebook-container');\n",
       "if (notebookContainer) {{\n",
       "    x.observe(notebookContainer, {childList: true});\n",
       "}}\n",
       "\n",
       "// Listen for the clearing of the current output cell\n",
       "var outputEl = gd.closest('.output');\n",
       "if (outputEl) {{\n",
       "    x.observe(outputEl, {childList: true});\n",
       "}}\n",
       "\n",
       "                        })                };                });            </script>        </div>"
      ]
     },
     "metadata": {},
     "output_type": "display_data"
    }
   ],
   "source": [
    "#### Create first subplot\n",
    "trace1 = go.Sankey(\n",
    "    node=dict(\n",
    "        pad=20,\n",
    "        thickness=30,\n",
    "        line=dict(color=\"black\", width=0),\n",
    "        label=nodes_fossil[\"name_show\"],\n",
    "        color=nodes_fossil[\"color\"]\n",
    "    ),\n",
    "    link=dict(\n",
    "        source=links_fossil[\"source_index\"],\n",
    "        target=links_fossil[\"target_index\"],\n",
    "        value=links_fossil[\"count\"],\n",
    "        color=links_fossil[\"color\"]\n",
    "    ),\n",
    "    domain={\n",
    "        'y': [0, 1]\n",
    "    })\n",
    "\n",
    "\n",
    "data = [trace1]\n",
    "\n",
    "layout =  go.Layout(\n",
    "    height=600, width=680,\n",
    "    font = dict(size = 10),\n",
    "    margin=dict(l=10, r=50, t=10, b=40)\n",
    ")\n",
    "\n",
    "fig = go.Figure(data=data, layout=layout)\n",
    "\n",
    "fig.add_annotation(dict(font=dict(color='black',size=12),x=0,y=0.95,showarrow=False,\n",
    "                        text=\"Oil and gas companies at COP28 (380 Delegates)\",textangle=0,xanchor='left'))\n",
    "fig.add_annotation(dict(font=dict(color='black',size=12),x=0,y=-0.05,showarrow=False,\n",
    "                        text=\"Country Annex\",textangle=0,xanchor='left'))\n",
    "fig.add_annotation(dict(font=dict(color='black',size=12),x=0.26,y=-0.05,showarrow=False,\n",
    "                        text=\"Nominator Country\",textangle=0,xanchor='center'))\n",
    "fig.add_annotation(dict(font=dict(color='black',size=12),x=1-0.26,y=-0.05,showarrow=False,\n",
    "                        text=\"Nominator Organisation\",textangle=0,xanchor='center'))\n",
    "fig.add_annotation(dict(font=dict(color='black',size=12),x=0.5,y=-0.05,showarrow=False,\n",
    "                        text=\"Badge Type\",textangle=0,xanchor='center'))\n",
    "fig.add_annotation(dict(font=dict(color='black',size=12),x=1,y=-0.05,showarrow=False,\n",
    "                        text=\"Company\",textangle=0,xanchor='right'))\n",
    "\n",
    "country_annot = [\"(Russia)\",\"(Russia)\",\"(UAE)\",\"(Brazil)\",\"(UAE)\",\n",
    "                 \"(Malaysia)\",\"(Thailand)\",\"(France)\",\"(China)\"]\n",
    "country_y = [0.85,0.805,0.74,0.703,0.68,\n",
    "             0.59,0.558,0.505,0.355]\n",
    "for i in np.arange(len(country_annot)):\n",
    "    fig.add_annotation(dict(font=dict(color='black',size=9),x=1,y=country_y[i],showarrow=False,\n",
    "                            text=country_annot[i],textangle=0,xanchor='left'))\n",
    "\n",
    "# Update layout\n",
    "#fig.update_layout(height=1100, width=1000, title_text=\"Sankey Plots\", showlegend=False)\n",
    "\n",
    "# Show the combined figure\n",
    "fig.show()\n",
    "\n",
    "# Save the figure as an image\n",
    "fig.write_image(\"sankey_fossil.png\", scale=6)\n",
    "fig.write_image(\"sankey_fossil.pdf\")"
   ]
  },
  {
   "cell_type": "code",
   "execution_count": null,
   "id": "0e783b0b-d3c2-4996-aeb9-0225a747e127",
   "metadata": {},
   "outputs": [],
   "source": []
  }
 ],
 "metadata": {
  "kernelspec": {
   "display_name": "Python 3 (ipykernel)",
   "language": "python",
   "name": "python3"
  },
  "language_info": {
   "codemirror_mode": {
    "name": "ipython",
    "version": 3
   },
   "file_extension": ".py",
   "mimetype": "text/x-python",
   "name": "python",
   "nbconvert_exporter": "python",
   "pygments_lexer": "ipython3",
   "version": "3.8.17"
  }
 },
 "nbformat": 4,
 "nbformat_minor": 5
}
